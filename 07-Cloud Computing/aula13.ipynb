{
  "nbformat": 4,
  "nbformat_minor": 0,
  "metadata": {
    "colab": {
      "name": "Aula_EngDados.ipynb",
      "provenance": [],
      "collapsed_sections": []
    },
    "kernelspec": {
      "name": "python3",
      "display_name": "Python 3"
    },
    "language_info": {
      "name": "python"
    }
  },
  "cells": [
    {
      "cell_type": "markdown",
      "source": [
        "# Manipulando dados com a biblioteca BOTO3"
      ],
      "metadata": {
        "id": "nebtIv9ZC95u"
      }
    },
    {
      "cell_type": "markdown",
      "source": [
        "# Instalando a biblioteca boto3"
      ],
      "metadata": {
        "id": "RaluiZZvtUm3"
      }
    },
    {
      "cell_type": "code",
      "source": [
        "!pip install boto3 \n"
      ],
      "metadata": {
        "id": "BswS7J4sDXz_",
        "colab": {
          "base_uri": "https://localhost:8080/"
        },
        "outputId": "9e9d4598-7a0b-4e57-b289-7f622eaa71ae"
      },
      "execution_count": null,
      "outputs": [
        {
          "output_type": "stream",
          "name": "stdout",
          "text": [
            "Collecting boto3\n",
            "  Downloading boto3-1.23.1-py3-none-any.whl (132 kB)\n",
            "\u001b[K     |████████████████████████████████| 132 kB 4.9 MB/s \n",
            "\u001b[?25hCollecting botocore<1.27.0,>=1.26.1\n",
            "  Downloading botocore-1.26.1-py3-none-any.whl (8.7 MB)\n",
            "\u001b[K     |████████████████████████████████| 8.7 MB 52.0 MB/s \n",
            "\u001b[?25hCollecting s3transfer<0.6.0,>=0.5.0\n",
            "  Downloading s3transfer-0.5.2-py3-none-any.whl (79 kB)\n",
            "\u001b[K     |████████████████████████████████| 79 kB 8.0 MB/s \n",
            "\u001b[?25hCollecting jmespath<2.0.0,>=0.7.1\n",
            "  Downloading jmespath-1.0.0-py3-none-any.whl (23 kB)\n",
            "Requirement already satisfied: python-dateutil<3.0.0,>=2.1 in /usr/local/lib/python3.7/dist-packages (from botocore<1.27.0,>=1.26.1->boto3) (2.8.2)\n",
            "Collecting urllib3<1.27,>=1.25.4\n",
            "  Downloading urllib3-1.26.9-py2.py3-none-any.whl (138 kB)\n",
            "\u001b[K     |████████████████████████████████| 138 kB 52.0 MB/s \n",
            "\u001b[?25hRequirement already satisfied: six>=1.5 in /usr/local/lib/python3.7/dist-packages (from python-dateutil<3.0.0,>=2.1->botocore<1.27.0,>=1.26.1->boto3) (1.15.0)\n",
            "Installing collected packages: urllib3, jmespath, botocore, s3transfer, boto3\n",
            "  Attempting uninstall: urllib3\n",
            "    Found existing installation: urllib3 1.24.3\n",
            "    Uninstalling urllib3-1.24.3:\n",
            "      Successfully uninstalled urllib3-1.24.3\n",
            "\u001b[31mERROR: pip's dependency resolver does not currently take into account all the packages that are installed. This behaviour is the source of the following dependency conflicts.\n",
            "requests 2.23.0 requires urllib3!=1.25.0,!=1.25.1,<1.26,>=1.21.1, but you have urllib3 1.26.9 which is incompatible.\n",
            "datascience 0.10.6 requires folium==0.2.1, but you have folium 0.8.3 which is incompatible.\u001b[0m\n",
            "Successfully installed boto3-1.23.1 botocore-1.26.1 jmespath-1.0.0 s3transfer-0.5.2 urllib3-1.26.9\n"
          ]
        }
      ]
    },
    {
      "cell_type": "markdown",
      "source": [
        "# Importando a biblioteca boto3"
      ],
      "metadata": {
        "id": "aJy-xBB-tY73"
      }
    },
    {
      "cell_type": "code",
      "execution_count": null,
      "metadata": {
        "id": "QRgeL6KYCw8_"
      },
      "outputs": [],
      "source": [
        "import boto3\n"
      ]
    },
    {
      "cell_type": "markdown",
      "source": [
        "#Criando um client s3 boto3 para manipularmos nossos buckets objetos\n",
        "\n",
        "* para criar seu acesso programático siga o passo a passo em nossos slides no classroom;\n",
        "\n",
        "* maiores informações sobre o serviço IAM e a documentação da biblioteca boto3 nos links  :\n",
        "https://docs.aws.amazon.com/cli/latest/userguide/cli-chap-configure.html\n",
        "https://docs.aws.amazon.com/pt_br/IAM/latest/UserGuide/id_users_create.html\n",
        "https://boto3.amazonaws.com/v1/documentation/api/latest/reference/services/s3.html"
      ],
      "metadata": {
        "id": "YNg0RxOuslC7"
      }
    },
    {
      "cell_type": "code",
      "source": [
        "s3 = boto3.client('s3', region_name='us-east-1',\n",
        "                  aws_access_key_id='AWS_ACCESS_KEY_ID',\n",
        "                  aws_secret_access_key='AWS_SECRET_ACCESS_KEY')\n"
      ],
      "metadata": {
        "id": "QultCOZwDmCG"
      },
      "execution_count": null,
      "outputs": []
    },
    {
      "cell_type": "markdown",
      "source": [
        "#Listando nossos buckets\n",
        "https://boto3.amazonaws.com/v1/documentation/api/latest/reference/services/s3.html#S3.Client.list_buckets"
      ],
      "metadata": {
        "id": "DcDmHelasd5T"
      }
    },
    {
      "cell_type": "code",
      "source": [
        "buckets = s3.list_buckets()\n",
        "print(buckets)\n"
      ],
      "metadata": {
        "id": "XZseQuYwEBsT",
        "colab": {
          "base_uri": "https://localhost:8080/"
        },
        "outputId": "6e2747d8-f629-4408-90df-773fc2ddc546"
      },
      "execution_count": null,
      "outputs": [
        {
          "output_type": "stream",
          "name": "stdout",
          "text": [
            "{'ResponseMetadata': {'RequestId': 'VRGENDC6P5D4S90V', 'HostId': 'okhCsDQJqZmlhBop11F429bOtazH/f7OsnUwMNwhxUKFqHBAqJnBSeaDJum4rri6+pp2G+3pekM=', 'HTTPStatusCode': 200, 'HTTPHeaders': {'x-amz-id-2': 'okhCsDQJqZmlhBop11F429bOtazH/f7OsnUwMNwhxUKFqHBAqJnBSeaDJum4rri6+pp2G+3pekM=', 'x-amz-request-id': 'VRGENDC6P5D4S90V', 'date': 'Tue, 17 May 2022 01:24:28 GMT', 'content-type': 'application/xml', 'transfer-encoding': 'chunked', 'server': 'AmazonS3'}, 'RetryAttempts': 0}, 'Buckets': [{'Name': 'new-bucket-one-project-prd-thiago-staging', 'CreationDate': datetime.datetime(2022, 5, 17, 0, 30, 52, tzinfo=tzlocal())}, {'Name': 'new-bucket-one-project-prd-thiago-tests', 'CreationDate': datetime.datetime(2022, 5, 17, 0, 30, 53, tzinfo=tzlocal())}, {'Name': 'new-bucket-one-project-prd-thiago-transformed', 'CreationDate': datetime.datetime(2022, 5, 17, 0, 30, 53, tzinfo=tzlocal())}], 'Owner': {'DisplayName': 'thiagoney', 'ID': '3e4a14843af48aef13155eb9b33d9b80162bd8359a1ff1468fb14a0fef5e2c17'}}\n"
          ]
        }
      ]
    },
    {
      "cell_type": "markdown",
      "source": [
        "#Criando nosso primeiro bucket \n",
        "https://boto3.amazonaws.com/v1/documentation/api/latest/reference/services/s3.html#S3.Client.create_bucket"
      ],
      "metadata": {
        "id": "ZNIXP8hHsaya"
      }
    },
    {
      "cell_type": "code",
      "source": [
        "bucket = s3.create_bucket(Bucket='new-bucket-project-renner-cesar-encantech-eng-data')\n"
      ],
      "metadata": {
        "id": "PogG_c9gFMRB"
      },
      "execution_count": null,
      "outputs": []
    },
    {
      "cell_type": "markdown",
      "source": [
        "#Deletando nosso bucket\n",
        "https://boto3.amazonaws.com/v1/documentation/api/latest/reference/services/s3.html#S3.Client.delete_bucket"
      ],
      "metadata": {
        "id": "b-1nVUxbsUGC"
      }
    },
    {
      "cell_type": "code",
      "source": [
        "response_del = s3.delete_bucket(Bucket='new-bucket-project-renner-cesar-encantech-eng-data')\n"
      ],
      "metadata": {
        "id": "x5ASo2TIXPQ6"
      },
      "execution_count": null,
      "outputs": []
    },
    {
      "cell_type": "markdown",
      "source": [
        "# EXERCÍCIO #1\n",
        "Crie os seguintes buckets, onde o 'nome do projeto' é o nome do projeto de vocês:\n",
        "* nome_do_projeto-dev-staging \n",
        "* nome_do_projeto-dev-transformed \n",
        "* nome_do_projeto-dev-tests \n",
        "* nome_do_projeto-dummy "
      ],
      "metadata": {
        "id": "kExUHPMrtg7v"
      }
    },
    {
      "cell_type": "code",
      "source": [
        "bucket01 = s3.create_bucket(Bucket='new-bucket-one-project-dev-thiago-staging')\n",
        "bucket02 = s3.create_bucket(Bucket='new-bucket-one-project-dev-thiago-transformed')\n",
        "bucket03 = s3.create_bucket(Bucket='new-bucket-one-project-dev-thiago-tests')\n",
        "bucket04 = s3.create_bucket(Bucket='new-bucket-one-project-dev-thiago-dummy')\n"
      ],
      "metadata": {
        "id": "eSHIAnZmXtOo"
      },
      "execution_count": null,
      "outputs": []
    },
    {
      "cell_type": "markdown",
      "source": [
        "#Exercício #2\n",
        "Complemente o código abaixo de modo que a saída seja a lista dos nomes dos buckets criados\n"
      ],
      "metadata": {
        "id": "YZkUyAXqt9rp"
      }
    },
    {
      "cell_type": "code",
      "source": [
        "response = s3.list_buckets()\n",
        "\n",
        "for bucket in response['Buckets']:\n",
        "    print(bucket['Name'])\n"
      ],
      "metadata": {
        "id": "c8nt_E7gaLhI",
        "colab": {
          "base_uri": "https://localhost:8080/"
        },
        "outputId": "fc13b1cd-e66c-411c-e2a1-d507b106cb2c"
      },
      "execution_count": null,
      "outputs": [
        {
          "output_type": "stream",
          "name": "stdout",
          "text": [
            "new-bucket-one-project-dev-thiago-dummy\n",
            "new-bucket-one-project-dev-thiago-staging\n",
            "new-bucket-one-project-dev-thiago-tests\n",
            "new-bucket-one-project-dev-thiago-transformed\n"
          ]
        }
      ]
    },
    {
      "cell_type": "markdown",
      "source": [
        "# Exercício #3\n",
        "Complemente o código para deletar o bucket nome_do_projeto-dev-dummy em seguida itere sobre a lista de buckets para verificar se a deleção ocorreu com sucesso\n"
      ],
      "metadata": {
        "id": "dasAD7hwuPmi"
      }
    },
    {
      "cell_type": "code",
      "source": [
        "response = s3.delete_bucket(Bucket='new-bucket-one-project-dev-thiago-dummy')\n",
        "\n",
        "response = s3.list_buckets()\n",
        "\n",
        "for bucket in response['Buckets']:\n",
        "    print(bucket['Name'])\n"
      ],
      "metadata": {
        "id": "uFXO8frhbLpO",
        "colab": {
          "base_uri": "https://localhost:8080/"
        },
        "outputId": "d6d45758-ec11-4df7-e489-ef2cad67efac"
      },
      "execution_count": null,
      "outputs": [
        {
          "output_type": "stream",
          "name": "stdout",
          "text": [
            "new-bucket-one-project-prd-thiago-staging\n",
            "new-bucket-one-project-prd-thiago-tests\n",
            "new-bucket-one-project-prd-thiago-transformed\n"
          ]
        }
      ]
    },
    {
      "cell_type": "markdown",
      "source": [
        "# Exercício #4\n",
        "Itere pelos nomes dos buckets e excluindo todos que possuem 'dev' e recriando com substituindo o trecho por 'prd' , a seguir print uma list de todos seus buckets\n"
      ],
      "metadata": {
        "id": "SRCtxlDYuw0L"
      }
    },
    {
      "cell_type": "code",
      "source": [
        "for bucket in response['Buckets']:\n",
        "    if 'dev' in bucket['Name']:\n",
        "        s3.delete_bucket(Bucket=bucket['Name'])\n",
        "        s3.create_bucket(Bucket=bucket['Name'].replace('dev','prd'))\n"
      ],
      "metadata": {
        "id": "HdCtKGrfcndc"
      },
      "execution_count": null,
      "outputs": []
    },
    {
      "cell_type": "markdown",
      "source": [
        "#Enviando arquivos para o bucket\n",
        "https://boto3.amazonaws.com/v1/documentation/api/latest/reference/services/s3.html#S3.Client.upload_file\n"
      ],
      "metadata": {
        "id": "eJXOLcjnvDJD"
      }
    },
    {
      "cell_type": "code",
      "source": [
        "s3.upload_file(\n",
        "    Filename='/content/sample_data/anscombe.json',\n",
        "    Bucket='new-bucket-one-project-prd-thiago-staging',\n",
        "    Key='anscombe.json'\n",
        ")\n"
      ],
      "metadata": {
        "id": "51_aVLThd52q"
      },
      "execution_count": null,
      "outputs": []
    },
    {
      "cell_type": "markdown",
      "source": [
        "#Listando objetos em um bucket\n",
        "https://boto3.amazonaws.com/v1/documentation/api/latest/reference/services/s3.html#S3.Client.list_objects\n"
      ],
      "metadata": {
        "id": "8UK6wNYhvNY7"
      }
    },
    {
      "cell_type": "code",
      "source": [
        "response = s3.list_objects(\n",
        "    Bucket='new-bucket-one-project-prd-thiago-staging'\n",
        ")\n",
        "for Content in response['Contents']:\n",
        "    print(Content['Key'])\n"
      ],
      "metadata": {
        "colab": {
          "base_uri": "https://localhost:8080/"
        },
        "id": "an3qpHo_hGYv",
        "outputId": "b3e40cad-c0f1-43b9-994e-1c3c138566b0"
      },
      "execution_count": null,
      "outputs": [
        {
          "output_type": "stream",
          "name": "stdout",
          "text": [
            "anscombe.json\n"
          ]
        }
      ]
    },
    {
      "cell_type": "markdown",
      "source": [
        "#Obtendo Informações (metadados) do nosso objeto\n",
        "https://boto3.amazonaws.com/v1/documentation/api/latest/reference/services/s3.html#S3.Client.head_object\n",
        "\n",
        "* Obs: O atributo 'ContentLenght' informa o tamanho do objeto em bytes."
      ],
      "metadata": {
        "id": "BLqhF3y1vYBk"
      }
    },
    {
      "cell_type": "code",
      "source": [
        "response = s3.head_object(\n",
        "    Bucket='new-bucket-one-project-prd-thiago-staging',\n",
        "    Key='anscombe.json'\n",
        ")\n",
        "\n",
        "print(response['ContentLength'])\n"
      ],
      "metadata": {
        "id": "7ZRBdR64hnKe",
        "colab": {
          "base_uri": "https://localhost:8080/"
        },
        "outputId": "ce6560f3-f654-4a34-9452-bff129839309"
      },
      "execution_count": null,
      "outputs": [
        {
          "output_type": "stream",
          "name": "stdout",
          "text": [
            "1697\n"
          ]
        }
      ]
    },
    {
      "cell_type": "markdown",
      "source": [
        "#Baixando um arquivo\n",
        "https://boto3.amazonaws.com/v1/documentation/api/latest/reference/services/s3.html#S3.Client.download_file"
      ],
      "metadata": {
        "id": "m2OCY8FRvlfZ"
      }
    },
    {
      "cell_type": "code",
      "source": [
        "s3.download_file(\n",
        "    Filename='/content/anscombe_download.json',\n",
        "    Bucket='new-bucket-one-project-prd-thiago-staging',\n",
        "    Key='anscombe.json'\n",
        ")\n"
      ],
      "metadata": {
        "id": "2J20wJ-an8N7"
      },
      "execution_count": null,
      "outputs": []
    },
    {
      "cell_type": "markdown",
      "source": [
        "#Deletando um objeto \n",
        "https://boto3.amazonaws.com/v1/documentation/api/latest/reference/services/s3.html#S3.Client.delete_object"
      ],
      "metadata": {
        "id": "DODG13YZvrj9"
      }
    },
    {
      "cell_type": "code",
      "source": [
        "s3.delete_object(\n",
        "    Bucket='new-bucket-one-project-prd-thiago-staging',\n",
        "    Key='anscombe.json'\n",
        ")\n"
      ],
      "metadata": {
        "colab": {
          "base_uri": "https://localhost:8080/"
        },
        "id": "J_SIj5djpRQC",
        "outputId": "cc7a970a-9704-46c8-91e5-b2550b2b0ac0"
      },
      "execution_count": null,
      "outputs": [
        {
          "output_type": "execute_result",
          "data": {
            "text/plain": [
              "{'ResponseMetadata': {'HTTPHeaders': {'date': 'Tue, 17 May 2022 00:35:34 GMT',\n",
              "   'server': 'AmazonS3',\n",
              "   'x-amz-id-2': '0TZX8nr3gFvPtCGFtDuiuSoflQ7Wqnn0h8528thXDSsn8byONZ8ZjVWma2ehGYgaCHPOjacC19o=',\n",
              "   'x-amz-request-id': '5HEQ01ZKQTP1A51W'},\n",
              "  'HTTPStatusCode': 204,\n",
              "  'HostId': '0TZX8nr3gFvPtCGFtDuiuSoflQ7Wqnn0h8528thXDSsn8byONZ8ZjVWma2ehGYgaCHPOjacC19o=',\n",
              "  'RequestId': '5HEQ01ZKQTP1A51W',\n",
              "  'RetryAttempts': 0}}"
            ]
          },
          "metadata": {},
          "execution_count": 47
        }
      ]
    },
    {
      "cell_type": "markdown",
      "source": [
        "#Exercício 5\n",
        "Realize o upload do seu dump do banco de dados para uma pasta criada dentro do bucket de stage com o ano-mes-dia de hoje e a chave sendo o nome do arquivo.\n"
      ],
      "metadata": {
        "id": "XBa4I2oxv0fN"
      }
    },
    {
      "cell_type": "code",
      "source": [
        "import datetime\n"
      ],
      "metadata": {
        "id": "db0E-b-Q_zLR"
      },
      "execution_count": 101,
      "outputs": []
    },
    {
      "cell_type": "code",
      "source": [
        "s3.upload_file(\n",
        "    Filename='aula13.txt',\n",
        "    Bucket='new-bucket-one-project-prd-thiago-staging',\n",
        "    Key='2022-05-16/aula13.txt'\n",
        ")\n"
      ],
      "metadata": {
        "id": "9fdH61weqYs-"
      },
      "execution_count": null,
      "outputs": []
    },
    {
      "cell_type": "markdown",
      "source": [
        "#Exercício 6\n",
        "Simule o envio de várias cópias dos dados obtidos a partir do seu banco de dados em diferentes pastas dentro da sua pasta stage, liste os conteúdos de cada pasta printando no console o tamanho do arquivo em MB."
      ],
      "metadata": {
        "id": "e1zWwiDXv9Ft"
      }
    },
    {
      "cell_type": "code",
      "source": [
        "folders_name = ['2022-05-10', '2022-05-11', '2022-05-12', '2022-05-13', '2022-05-14', '2022-05-15']\n",
        "\n",
        "for name in folders_name:\n",
        "    s3.upload_file(\n",
        "        Filename= 'aula13.txt',\n",
        "        Bucket= 'new-bucket-one-project-prd-thiago-staging',\n",
        "        Key= name+'/aula13.txt'\n",
        "    )\n"
      ],
      "metadata": {
        "id": "E373G0FngVzH"
      },
      "execution_count": 99,
      "outputs": []
    },
    {
      "cell_type": "code",
      "source": [
        "for name in folders_name:\n",
        "    lenght_file = s3.get_object(\n",
        "            Bucket='new-bucket-one-project-prd-thiago-staging',\n",
        "            Key= name+'/aula13.txt'\n",
        "    )['ContentLength']\n",
        "\n",
        "    print(name + '/aula13.txt')\n",
        "    print(f'O tamanho do arquivo é {lenght_file*1e-6} MB\\n')\n"
      ],
      "metadata": {
        "colab": {
          "base_uri": "https://localhost:8080/"
        },
        "id": "FiNkFPQ64sTZ",
        "outputId": "d8493e1a-f6c6-4b83-8962-b9b9fa39f916"
      },
      "execution_count": 68,
      "outputs": [
        {
          "output_type": "stream",
          "name": "stdout",
          "text": [
            "2022-05-10/aula13.txt\n",
            "O tamanho do arquivo é 3.6e-05 MB\n",
            "\n",
            "2022-05-11/aula13.txt\n",
            "O tamanho do arquivo é 3.6e-05 MB\n",
            "\n",
            "2022-05-12/aula13.txt\n",
            "O tamanho do arquivo é 3.6e-05 MB\n",
            "\n",
            "2022-05-13/aula13.txt\n",
            "O tamanho do arquivo é 3.6e-05 MB\n",
            "\n",
            "2022-05-14/aula13.txt\n",
            "O tamanho do arquivo é 3.6e-05 MB\n",
            "\n",
            "2022-05-15/aula13.txt\n",
            "O tamanho do arquivo é 3.6e-05 MB\n",
            "\n"
          ]
        }
      ]
    },
    {
      "cell_type": "markdown",
      "source": [
        "#Exercício 7\n",
        "Escreva um bloco de comando que itere nas pastas e delete todos os arquivos e pastas dos primeiros 15 dias do mês."
      ],
      "metadata": {
        "id": "qa52-DZywIll"
      }
    },
    {
      "cell_type": "code",
      "source": [
        "for file in s3.list_objects(Bucket='new-bucket-one-project-prd-thiago-staging')['Contents']:\n",
        "    if file['LastModified'].day <= 15:\n",
        "        s3.delete_object(Bucket='new-bucket-one-project-prd-thiago-staging',\n",
        "                         Key=file['Key'])\n",
        "        print(f\"O arquivo {file['Key']} foi excluído pois foi criado antes do dia 15.\")\n",
        "    else:\n",
        "        print(f\"O arquivo {file['Key']} não foi excluído pois foi criado após o dia 15.\")\n"
      ],
      "metadata": {
        "id": "wUs3gOI_rTfa",
        "colab": {
          "base_uri": "https://localhost:8080/"
        },
        "outputId": "edb1e968-7f62-4833-d863-ce700dff02a2"
      },
      "execution_count": 100,
      "outputs": [
        {
          "output_type": "stream",
          "name": "stdout",
          "text": [
            "O arquivo 2022-05-10/aula13.txt não foi excluído pois foi criado após o dia 15.\n",
            "O arquivo 2022-05-11/aula13.txt não foi excluído pois foi criado após o dia 15.\n",
            "O arquivo 2022-05-12/aula13.txt não foi excluído pois foi criado após o dia 15.\n",
            "O arquivo 2022-05-13/aula13.txt não foi excluído pois foi criado após o dia 15.\n",
            "O arquivo 2022-05-14/aula13.txt não foi excluído pois foi criado após o dia 15.\n",
            "O arquivo 2022-05-15/aula13.txt não foi excluído pois foi criado após o dia 15.\n"
          ]
        }
      ]
    }
  ]
}