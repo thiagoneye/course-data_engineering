{
  "cells": [
    {
      "cell_type": "markdown",
      "source": [
        "# Introdução ao PySpark\n",
        "Mais informações no link https://spark.apache.org/docs/latest/api/python/"
      ],
      "metadata": {
        "application/vnd.databricks.v1+cell": {
          "title": "",
          "showTitle": false,
          "inputWidgets": {},
          "nuid": "6a1418b5-1fcc-4763-9e16-72901689fc5a"
        },
        "id": "-z1-bOGo7gng"
      }
    },
    {
      "cell_type": "markdown",
      "source": [
        "#Instalação das dependências e configuração do ambiente"
      ],
      "metadata": {
        "id": "JH-G5cUu8Mbv"
      }
    },
    {
      "cell_type": "code",
      "source": [
        "pip install pyspark pyarrow"
      ],
      "metadata": {
        "application/vnd.databricks.v1+cell": {
          "title": "",
          "showTitle": false,
          "inputWidgets": {},
          "nuid": "3dd4f9ef-dd2c-4b33-9f44-d8d2338ed584"
        },
        "colab": {
          "base_uri": "https://localhost:8080/"
        },
        "id": "532Z3YJh7gnh",
        "outputId": "1b1cc3c7-691c-4b86-c426-974db6a20c2c"
      },
      "outputs": [
        {
          "output_type": "stream",
          "name": "stdout",
          "text": [
            "Requirement already satisfied: pyspark in /usr/local/lib/python3.7/dist-packages (3.2.1)\n",
            "Requirement already satisfied: pyarrow in /usr/local/lib/python3.7/dist-packages (6.0.1)\n",
            "Requirement already satisfied: py4j==0.10.9.3 in /usr/local/lib/python3.7/dist-packages (from pyspark) (0.10.9.3)\n",
            "Requirement already satisfied: numpy>=1.16.6 in /usr/local/lib/python3.7/dist-packages (from pyarrow) (1.21.6)\n"
          ]
        }
      ],
      "execution_count": 1
    },
    {
      "cell_type": "code",
      "source": [
        "!apt-get install openjdk-8-jdk-headless -qq > /dev/null\n",
        "!wget -q https://archive.apache.org/dist/spark/spark-2.4.4/spark-2.4.4-bin-hadoop2.7.tgz\n",
        "!tar xf spark-2.4.4-bin-hadoop2.7.tgz\n",
        "!pip install -q findspark"
      ],
      "metadata": {
        "id": "0bXWFoUx8497"
      },
      "execution_count": 2,
      "outputs": []
    },
    {
      "cell_type": "code",
      "metadata": {
        "id": "RkpG11RQPbRf"
      },
      "source": [
        "import os\n",
        "os.environ[\"JAVA_HOME\"] = \"/usr/lib/jvm/java-8-openjdk-amd64\"\n",
        "os.environ[\"SPARK_HOME\"] = \"/content/spark-2.4.4-bin-hadoop2.7\"\n",
        "\n",
        "import findspark\n",
        "findspark.init('spark-2.4.4-bin-hadoop2.7')"
      ],
      "execution_count": 3,
      "outputs": []
    },
    {
      "cell_type": "markdown",
      "source": [
        "# Importando as dependências necessárias aos nossos exemplos"
      ],
      "metadata": {
        "id": "PwBmkM-l8Zmn"
      }
    },
    {
      "cell_type": "code",
      "source": [
        "from pyspark.sql import SparkSession\n",
        "sc = SparkSession.builder.master('local[*]').getOrCreate()"
      ],
      "metadata": {
        "id": "QUNBapNv-Kcr"
      },
      "execution_count": 4,
      "outputs": []
    },
    {
      "cell_type": "code",
      "source": [
        "from pyspark import SparkFiles\n",
        "from pyspark.sql.functions import udf\n",
        "from pyspark.sql.types import *\n",
        "from functools import reduce\n",
        "\n",
        "import pandas as pd"
      ],
      "metadata": {
        "application/vnd.databricks.v1+cell": {
          "title": "",
          "showTitle": false,
          "inputWidgets": {},
          "nuid": "f2a58473-af2d-4a00-87cf-35bfb3e9d6db"
        },
        "id": "4TkM8Un77gnk"
      },
      "outputs": [],
      "execution_count": 5
    },
    {
      "cell_type": "markdown",
      "source": [
        "# Verificando o Spark Context"
      ],
      "metadata": {
        "id": "cUvqAWT38iLv"
      }
    },
    {
      "cell_type": "code",
      "source": [
        "print(sc)"
      ],
      "metadata": {
        "application/vnd.databricks.v1+cell": {
          "title": "",
          "showTitle": false,
          "inputWidgets": {},
          "nuid": "6533c68a-db2c-40d2-93f1-e6a83d9cfbd7"
        },
        "colab": {
          "base_uri": "https://localhost:8080/"
        },
        "id": "mvTqIVdR7gnk",
        "outputId": "dab49b26-3682-435b-f6b4-757e118ef934"
      },
      "outputs": [
        {
          "output_type": "stream",
          "name": "stdout",
          "text": [
            "<pyspark.sql.session.SparkSession object at 0x7fe1e714b190>\n"
          ]
        }
      ],
      "execution_count": 6
    },
    {
      "cell_type": "markdown",
      "source": [
        "Configurando nível de log do sparkContext desejado para nossos exemplos"
      ],
      "metadata": {
        "id": "X6ZFoDrZ-kzZ"
      }
    },
    {
      "cell_type": "code",
      "source": [
        "sc.setLogLevel(\"WARN\")"
      ],
      "metadata": {
        "application/vnd.databricks.v1+cell": {
          "title": "",
          "showTitle": false,
          "inputWidgets": {},
          "nuid": "f2214306-0b70-4a3e-8bb0-7a8114516b81"
        },
        "id": "JVpOCLCL7gnk",
        "outputId": "33422478-916e-4a00-bf47-59f240022f59"
      },
      "outputs": [
        {
          "output_type": "display_data",
          "metadata": {
            "application/vnd.databricks.v1+output": {
              "datasetInfos": [],
              "data": "<div class=\"ansiout\"></div>",
              "removedWidgets": [],
              "addedWidgets": {},
              "metadata": {},
              "type": "html",
              "arguments": {}
            }
          },
          "data": {
            "text/html": [
              "<style scoped>\n  .ansiout {\n    display: block;\n    unicode-bidi: embed;\n    white-space: pre-wrap;\n    word-wrap: break-word;\n    word-break: break-all;\n    font-family: \"Source Code Pro\", \"Menlo\", monospace;;\n    font-size: 13px;\n    color: #555;\n    margin-left: 4px;\n    line-height: 19px;\n  }\n</style>\n<div class=\"ansiout\"></div>"
            ]
          }
        }
      ],
      "execution_count": null
    },
    {
      "cell_type": "code",
      "source": [
        "#Criado um DataFrame Pandas a partir de uma lista utilizando Python"
      ],
      "metadata": {
        "id": "kuMMM0vM-m2y"
      },
      "execution_count": 8,
      "outputs": []
    },
    {
      "cell_type": "code",
      "source": [
        "valor = [(\"Joao\",23,\"M\"),]\n",
        "print(type(valor))\n",
        "\n",
        "\n",
        "print(\"joao da chuva\"[:5])\n",
        "colunas = ['nome', 'idade','camiseta']\n",
        "print(type(colunas))\n",
        "\n",
        "df_test = pd.DataFrame(valor, columns=colunas)\n",
        "df_outro  = df_test[\"nome\"]\n",
        "df_outro.describe()"
      ],
      "metadata": {
        "application/vnd.databricks.v1+cell": {
          "title": "",
          "showTitle": false,
          "inputWidgets": {},
          "nuid": "109ed5e3-6e1f-4ffe-b88c-2508ee09cf2b"
        },
        "colab": {
          "base_uri": "https://localhost:8080/"
        },
        "id": "5YrZ2bEz7gnl",
        "outputId": "e5e552e7-a310-4b4c-b563-b119362b9919"
      },
      "outputs": [
        {
          "output_type": "stream",
          "name": "stdout",
          "text": [
            "<class 'list'>\n",
            "joao \n",
            "<class 'list'>\n"
          ]
        },
        {
          "output_type": "execute_result",
          "data": {
            "text/plain": [
              "count        1\n",
              "unique       1\n",
              "top       Joao\n",
              "freq         1\n",
              "Name: nome, dtype: object"
            ]
          },
          "metadata": {},
          "execution_count": 9
        }
      ],
      "execution_count": 9
    },
    {
      "cell_type": "code",
      "source": [
        "#linhas do Dataframe\n",
        "lines = [('DF','Centro-Oeste'),('GO','Centro-Oeste'),('MT','Centro-Oeste'),('MS','Centro-Oeste'),\n",
        "('AL','Nordeste'),('BA','Nordeste'),('CE','Nordeste'),('MA','Nordeste'),('PB','Nordeste'),('PE','Nordeste'),('PI','Nordeste'),('RN','Nordeste'),\n",
        "('SE','Nordeste'),('AC','Norte'),('AP','Norte'),('AM','Norte'),('PA','Norte'),('RO','Norte'),('RR','Norte'),('TO','Norte'),\n",
        "('ES','Sudeste'),('MG','Sudeste'),('RJ','Sudeste'),('SP','Sudeste'),('PR','Sul'),('RS','Sul'),('SC','Sul')]\n",
        "columns = [\"Sigla\", \"Regiao\"]\n",
        "df_uf_reg = pd.DataFrame(lines, columns=columns)"
      ],
      "metadata": {
        "application/vnd.databricks.v1+cell": {
          "title": "",
          "showTitle": false,
          "inputWidgets": {},
          "nuid": "7cb57cd7-3d1a-4cae-92e6-3feaba87c634"
        },
        "id": "ulCtQM-27gnl"
      },
      "outputs": [],
      "execution_count": 10
    },
    {
      "cell_type": "code",
      "source": [
        "df_uf_reg.info()"
      ],
      "metadata": {
        "application/vnd.databricks.v1+cell": {
          "title": "",
          "showTitle": false,
          "inputWidgets": {},
          "nuid": "ee7fb448-b132-4901-bbcf-eee175b449b0"
        },
        "colab": {
          "base_uri": "https://localhost:8080/"
        },
        "id": "F9x_knEx7gnm",
        "outputId": "d0ca7ce7-f624-4be7-b5d0-576269b899b5"
      },
      "outputs": [
        {
          "output_type": "stream",
          "name": "stdout",
          "text": [
            "<class 'pandas.core.frame.DataFrame'>\n",
            "RangeIndex: 27 entries, 0 to 26\n",
            "Data columns (total 2 columns):\n",
            " #   Column  Non-Null Count  Dtype \n",
            "---  ------  --------------  ----- \n",
            " 0   Sigla   27 non-null     object\n",
            " 1   Regiao  27 non-null     object\n",
            "dtypes: object(2)\n",
            "memory usage: 560.0+ bytes\n"
          ]
        }
      ],
      "execution_count": 11
    },
    {
      "cell_type": "code",
      "source": [
        "df_uf_reg.describe()"
      ],
      "metadata": {
        "application/vnd.databricks.v1+cell": {
          "title": "",
          "showTitle": false,
          "inputWidgets": {},
          "nuid": "af1a744f-43c7-4dd9-8310-e1a820a917a3"
        },
        "colab": {
          "base_uri": "https://localhost:8080/",
          "height": 175
        },
        "id": "kLa2pEa97gnm",
        "outputId": "25140c12-cd46-4df7-c0d7-f80ff333b39a"
      },
      "outputs": [
        {
          "output_type": "execute_result",
          "data": {
            "text/plain": [
              "       Sigla    Regiao\n",
              "count     27        27\n",
              "unique    27         5\n",
              "top       DF  Nordeste\n",
              "freq       1         9"
            ],
            "text/html": [
              "\n",
              "  <div id=\"df-859143b1-1b39-4c1e-b83e-11809b67027e\">\n",
              "    <div class=\"colab-df-container\">\n",
              "      <div>\n",
              "<style scoped>\n",
              "    .dataframe tbody tr th:only-of-type {\n",
              "        vertical-align: middle;\n",
              "    }\n",
              "\n",
              "    .dataframe tbody tr th {\n",
              "        vertical-align: top;\n",
              "    }\n",
              "\n",
              "    .dataframe thead th {\n",
              "        text-align: right;\n",
              "    }\n",
              "</style>\n",
              "<table border=\"1\" class=\"dataframe\">\n",
              "  <thead>\n",
              "    <tr style=\"text-align: right;\">\n",
              "      <th></th>\n",
              "      <th>Sigla</th>\n",
              "      <th>Regiao</th>\n",
              "    </tr>\n",
              "  </thead>\n",
              "  <tbody>\n",
              "    <tr>\n",
              "      <th>count</th>\n",
              "      <td>27</td>\n",
              "      <td>27</td>\n",
              "    </tr>\n",
              "    <tr>\n",
              "      <th>unique</th>\n",
              "      <td>27</td>\n",
              "      <td>5</td>\n",
              "    </tr>\n",
              "    <tr>\n",
              "      <th>top</th>\n",
              "      <td>DF</td>\n",
              "      <td>Nordeste</td>\n",
              "    </tr>\n",
              "    <tr>\n",
              "      <th>freq</th>\n",
              "      <td>1</td>\n",
              "      <td>9</td>\n",
              "    </tr>\n",
              "  </tbody>\n",
              "</table>\n",
              "</div>\n",
              "      <button class=\"colab-df-convert\" onclick=\"convertToInteractive('df-859143b1-1b39-4c1e-b83e-11809b67027e')\"\n",
              "              title=\"Convert this dataframe to an interactive table.\"\n",
              "              style=\"display:none;\">\n",
              "        \n",
              "  <svg xmlns=\"http://www.w3.org/2000/svg\" height=\"24px\"viewBox=\"0 0 24 24\"\n",
              "       width=\"24px\">\n",
              "    <path d=\"M0 0h24v24H0V0z\" fill=\"none\"/>\n",
              "    <path d=\"M18.56 5.44l.94 2.06.94-2.06 2.06-.94-2.06-.94-.94-2.06-.94 2.06-2.06.94zm-11 1L8.5 8.5l.94-2.06 2.06-.94-2.06-.94L8.5 2.5l-.94 2.06-2.06.94zm10 10l.94 2.06.94-2.06 2.06-.94-2.06-.94-.94-2.06-.94 2.06-2.06.94z\"/><path d=\"M17.41 7.96l-1.37-1.37c-.4-.4-.92-.59-1.43-.59-.52 0-1.04.2-1.43.59L10.3 9.45l-7.72 7.72c-.78.78-.78 2.05 0 2.83L4 21.41c.39.39.9.59 1.41.59.51 0 1.02-.2 1.41-.59l7.78-7.78 2.81-2.81c.8-.78.8-2.07 0-2.86zM5.41 20L4 18.59l7.72-7.72 1.47 1.35L5.41 20z\"/>\n",
              "  </svg>\n",
              "      </button>\n",
              "      \n",
              "  <style>\n",
              "    .colab-df-container {\n",
              "      display:flex;\n",
              "      flex-wrap:wrap;\n",
              "      gap: 12px;\n",
              "    }\n",
              "\n",
              "    .colab-df-convert {\n",
              "      background-color: #E8F0FE;\n",
              "      border: none;\n",
              "      border-radius: 50%;\n",
              "      cursor: pointer;\n",
              "      display: none;\n",
              "      fill: #1967D2;\n",
              "      height: 32px;\n",
              "      padding: 0 0 0 0;\n",
              "      width: 32px;\n",
              "    }\n",
              "\n",
              "    .colab-df-convert:hover {\n",
              "      background-color: #E2EBFA;\n",
              "      box-shadow: 0px 1px 2px rgba(60, 64, 67, 0.3), 0px 1px 3px 1px rgba(60, 64, 67, 0.15);\n",
              "      fill: #174EA6;\n",
              "    }\n",
              "\n",
              "    [theme=dark] .colab-df-convert {\n",
              "      background-color: #3B4455;\n",
              "      fill: #D2E3FC;\n",
              "    }\n",
              "\n",
              "    [theme=dark] .colab-df-convert:hover {\n",
              "      background-color: #434B5C;\n",
              "      box-shadow: 0px 1px 3px 1px rgba(0, 0, 0, 0.15);\n",
              "      filter: drop-shadow(0px 1px 2px rgba(0, 0, 0, 0.3));\n",
              "      fill: #FFFFFF;\n",
              "    }\n",
              "  </style>\n",
              "\n",
              "      <script>\n",
              "        const buttonEl =\n",
              "          document.querySelector('#df-859143b1-1b39-4c1e-b83e-11809b67027e button.colab-df-convert');\n",
              "        buttonEl.style.display =\n",
              "          google.colab.kernel.accessAllowed ? 'block' : 'none';\n",
              "\n",
              "        async function convertToInteractive(key) {\n",
              "          const element = document.querySelector('#df-859143b1-1b39-4c1e-b83e-11809b67027e');\n",
              "          const dataTable =\n",
              "            await google.colab.kernel.invokeFunction('convertToInteractive',\n",
              "                                                     [key], {});\n",
              "          if (!dataTable) return;\n",
              "\n",
              "          const docLinkHtml = 'Like what you see? Visit the ' +\n",
              "            '<a target=\"_blank\" href=https://colab.research.google.com/notebooks/data_table.ipynb>data table notebook</a>'\n",
              "            + ' to learn more about interactive tables.';\n",
              "          element.innerHTML = '';\n",
              "          dataTable['output_type'] = 'display_data';\n",
              "          await google.colab.output.renderOutput(dataTable, element);\n",
              "          const docLink = document.createElement('div');\n",
              "          docLink.innerHTML = docLinkHtml;\n",
              "          element.appendChild(docLink);\n",
              "        }\n",
              "      </script>\n",
              "    </div>\n",
              "  </div>\n",
              "  "
            ]
          },
          "metadata": {},
          "execution_count": 12
        }
      ],
      "execution_count": 12
    },
    {
      "cell_type": "code",
      "source": [
        "df_uf_reg['Sigla'].head(5)"
      ],
      "metadata": {
        "application/vnd.databricks.v1+cell": {
          "title": "",
          "showTitle": false,
          "inputWidgets": {},
          "nuid": "88b6e44a-8954-42d0-86bb-4dae9daafb16"
        },
        "colab": {
          "base_uri": "https://localhost:8080/"
        },
        "id": "aq-Vsg_A7gnn",
        "outputId": "a6607870-4566-40b6-ce68-524498e0e814"
      },
      "outputs": [
        {
          "output_type": "execute_result",
          "data": {
            "text/plain": [
              "0    DF\n",
              "1    GO\n",
              "2    MT\n",
              "3    MS\n",
              "4    AL\n",
              "Name: Sigla, dtype: object"
            ]
          },
          "metadata": {},
          "execution_count": 13
        }
      ],
      "execution_count": 13
    },
    {
      "cell_type": "code",
      "source": [
        "spark = SparkSession.builder.getOrCreate()"
      ],
      "metadata": {
        "application/vnd.databricks.v1+cell": {
          "title": "",
          "showTitle": false,
          "inputWidgets": {},
          "nuid": "019dc7a2-8427-4328-aee5-1fc69437c40d"
        },
        "id": "V48-3pSN7gnn"
      },
      "outputs": [],
      "execution_count": 14
    },
    {
      "cell_type": "code",
      "source": [
        "url = 'https://handson-zup-data.s3.amazonaws.com/caso_full.csv'"
      ],
      "metadata": {
        "application/vnd.databricks.v1+cell": {
          "title": "",
          "showTitle": false,
          "inputWidgets": {},
          "nuid": "b6403dda-857d-4dfc-b98b-2d47871d0092"
        },
        "id": "5-krPTzI7gno"
      },
      "outputs": [],
      "execution_count": 15
    },
    {
      "cell_type": "markdown",
      "source": [
        "#Baixando um Dataset direto para um DataFrame Pandas"
      ],
      "metadata": {
        "id": "HMDtE658_Ehs"
      }
    },
    {
      "cell_type": "code",
      "source": [
        "df = pd.read_csv(url)"
      ],
      "metadata": {
        "application/vnd.databricks.v1+cell": {
          "title": "",
          "showTitle": false,
          "inputWidgets": {},
          "nuid": "d139cba7-9f29-4c2f-ab48-bac84c554f0a"
        },
        "id": "JV20Kk0j7gno"
      },
      "outputs": [],
      "execution_count": 16
    },
    {
      "cell_type": "markdown",
      "source": [
        "# Convertendo o DataFrame pandas em um DataFrame Spark e realizando operações com os dados"
      ],
      "metadata": {
        "id": "siTL2kn5_LhQ"
      }
    },
    {
      "cell_type": "code",
      "source": [
        "df_covid = spark.createDataFrame(df)"
      ],
      "metadata": {
        "application/vnd.databricks.v1+cell": {
          "title": "",
          "showTitle": false,
          "inputWidgets": {},
          "nuid": "1a241efe-843b-4ba4-9b47-77ba581a8442"
        },
        "id": "3MqYAa3O7gno"
      },
      "outputs": [],
      "execution_count": null
    },
    {
      "cell_type": "code",
      "source": [
        "print(type(df_covid))"
      ],
      "metadata": {
        "application/vnd.databricks.v1+cell": {
          "title": "",
          "showTitle": false,
          "inputWidgets": {},
          "nuid": "b2433888-1de1-4542-9a11-412778528a50"
        },
        "id": "2RhYZ3bA7gno"
      },
      "outputs": [],
      "execution_count": null
    },
    {
      "cell_type": "code",
      "source": [
        "df_covid.printSchema()"
      ],
      "metadata": {
        "application/vnd.databricks.v1+cell": {
          "title": "",
          "showTitle": false,
          "inputWidgets": {},
          "nuid": "171a8428-e655-412c-95d9-7cf916eb813d"
        },
        "id": "_GiT5gTO7gno",
        "outputId": "1277737b-62bb-4e9b-b446-0a57cfc9922a"
      },
      "outputs": [
        {
          "output_type": "display_data",
          "metadata": {
            "application/vnd.databricks.v1+output": {
              "datasetInfos": [],
              "data": "<div class=\"ansiout\">root\n |-- city: string (nullable = true)\n |-- city_ibge_code: double (nullable = true)\n |-- date: string (nullable = true)\n |-- epidemiological_week: long (nullable = true)\n |-- estimated_population: double (nullable = true)\n |-- estimated_population_2019: double (nullable = true)\n |-- is_last: boolean (nullable = true)\n |-- is_repeated: boolean (nullable = true)\n |-- last_available_confirmed: long (nullable = true)\n |-- last_available_confirmed_per_100k_inhabitants: double (nullable = true)\n |-- last_available_date: string (nullable = true)\n |-- last_available_death_rate: double (nullable = true)\n |-- last_available_deaths: long (nullable = true)\n |-- order_for_place: long (nullable = true)\n |-- place_type: string (nullable = true)\n |-- state: string (nullable = true)\n |-- new_confirmed: long (nullable = true)\n |-- new_deaths: long (nullable = true)\n\n</div>",
              "removedWidgets": [],
              "addedWidgets": {},
              "metadata": {},
              "type": "html",
              "arguments": {}
            }
          },
          "data": {
            "text/html": [
              "<style scoped>\n  .ansiout {\n    display: block;\n    unicode-bidi: embed;\n    white-space: pre-wrap;\n    word-wrap: break-word;\n    word-break: break-all;\n    font-family: \"Source Code Pro\", \"Menlo\", monospace;;\n    font-size: 13px;\n    color: #555;\n    margin-left: 4px;\n    line-height: 19px;\n  }\n</style>\n<div class=\"ansiout\">root\n-- city: string (nullable = true)\n-- city_ibge_code: double (nullable = true)\n-- date: string (nullable = true)\n-- epidemiological_week: long (nullable = true)\n-- estimated_population: double (nullable = true)\n-- estimated_population_2019: double (nullable = true)\n-- is_last: boolean (nullable = true)\n-- is_repeated: boolean (nullable = true)\n-- last_available_confirmed: long (nullable = true)\n-- last_available_confirmed_per_100k_inhabitants: double (nullable = true)\n-- last_available_date: string (nullable = true)\n-- last_available_death_rate: double (nullable = true)\n-- last_available_deaths: long (nullable = true)\n-- order_for_place: long (nullable = true)\n-- place_type: string (nullable = true)\n-- state: string (nullable = true)\n-- new_confirmed: long (nullable = true)\n-- new_deaths: long (nullable = true)\n\n</div>"
            ]
          }
        }
      ],
      "execution_count": null
    },
    {
      "cell_type": "code",
      "source": [
        "df_covid.select(df_covid.city).show(5)"
      ],
      "metadata": {
        "application/vnd.databricks.v1+cell": {
          "title": "",
          "showTitle": false,
          "inputWidgets": {},
          "nuid": "796c3abe-a81e-42b0-ab79-98dbc2f538e8"
        },
        "id": "NRISR__e7gnp",
        "outputId": "492c7871-87f8-4ae5-960f-d6d615939869"
      },
      "outputs": [
        {
          "output_type": "display_data",
          "metadata": {
            "application/vnd.databricks.v1+output": {
              "datasetInfos": [],
              "data": "<div class=\"ansiout\">+----------+\n|      city|\n+----------+\n|Rio Branco|\n|      null|\n|Rio Branco|\n|      null|\n|Rio Branco|\n+----------+\nonly showing top 5 rows\n\n</div>",
              "removedWidgets": [],
              "addedWidgets": {},
              "metadata": {},
              "type": "html",
              "arguments": {}
            }
          },
          "data": {
            "text/html": [
              "<style scoped>\n  .ansiout {\n    display: block;\n    unicode-bidi: embed;\n    white-space: pre-wrap;\n    word-wrap: break-word;\n    word-break: break-all;\n    font-family: \"Source Code Pro\", \"Menlo\", monospace;;\n    font-size: 13px;\n    color: #555;\n    margin-left: 4px;\n    line-height: 19px;\n  }\n</style>\n<div class=\"ansiout\">+----------+\n      city|\n+----------+\nRio Branco|\n      null|\nRio Branco|\n      null|\nRio Branco|\n+----------+\nonly showing top 5 rows\n\n</div>"
            ]
          }
        }
      ],
      "execution_count": null
    },
    {
      "cell_type": "code",
      "source": [
        "df_covid.select(df_covid['city'], df_covid['state'],df_covid['date'], df_covid['new_deaths']).orderBy(df_covid['new_deaths']).show(5)"
      ],
      "metadata": {
        "application/vnd.databricks.v1+cell": {
          "title": "",
          "showTitle": false,
          "inputWidgets": {},
          "nuid": "31804a60-0303-4ff5-a405-4f7b1ac1d260"
        },
        "id": "ysGka0jm7gnp",
        "outputId": "dd036810-d4b3-4c23-fa96-ae3a1e591c8a"
      },
      "outputs": [
        {
          "output_type": "display_data",
          "metadata": {
            "application/vnd.databricks.v1+output": {
              "datasetInfos": [],
              "data": "<div class=\"ansiout\">+--------------------+-----+----------+----------+\n|                city|state|      date|new_deaths|\n+--------------------+-----+----------+----------+\n|Santa Margarida d...|   RS|2021-04-05|      -407|\n|         Santa Maria|   RS|2021-04-04|      -397|\n|Importados/Indefi...|   MG|2020-08-17|      -187|\n|Importados/Indefi...|   MG|2020-09-28|      -171|\n|Importados/Indefi...|   MG|2021-01-18|      -168|\n+--------------------+-----+----------+----------+\nonly showing top 5 rows\n\n</div>",
              "removedWidgets": [],
              "addedWidgets": {},
              "metadata": {},
              "type": "html",
              "arguments": {}
            }
          },
          "data": {
            "text/html": [
              "<style scoped>\n  .ansiout {\n    display: block;\n    unicode-bidi: embed;\n    white-space: pre-wrap;\n    word-wrap: break-word;\n    word-break: break-all;\n    font-family: \"Source Code Pro\", \"Menlo\", monospace;;\n    font-size: 13px;\n    color: #555;\n    margin-left: 4px;\n    line-height: 19px;\n  }\n</style>\n<div class=\"ansiout\">+--------------------+-----+----------+----------+\n                city|state|      date|new_deaths|\n+--------------------+-----+----------+----------+\nSanta Margarida d...|   RS|2021-04-05|      -407|\n         Santa Maria|   RS|2021-04-04|      -397|\nImportados/Indefi...|   MG|2020-08-17|      -187|\nImportados/Indefi...|   MG|2020-09-28|      -171|\nImportados/Indefi...|   MG|2021-01-18|      -168|\n+--------------------+-----+----------+----------+\nonly showing top 5 rows\n\n</div>"
            ]
          }
        }
      ],
      "execution_count": null
    },
    {
      "cell_type": "code",
      "source": [
        "df_covid = df_covid.withColumn('ano', df_covid['date'].substr(0,4))"
      ],
      "metadata": {
        "application/vnd.databricks.v1+cell": {
          "title": "",
          "showTitle": false,
          "inputWidgets": {},
          "nuid": "7ad387b5-ddb5-4271-b387-f0c99e3d463e"
        },
        "id": "zPSRL6wt7gnp",
        "outputId": "f3b1a061-3f17-486e-afe1-40602184eda1"
      },
      "outputs": [
        {
          "output_type": "display_data",
          "metadata": {
            "application/vnd.databricks.v1+output": {
              "datasetInfos": [],
              "data": "<div class=\"ansiout\"></div>",
              "removedWidgets": [],
              "addedWidgets": {},
              "metadata": {},
              "type": "html",
              "arguments": {}
            }
          },
          "data": {
            "text/html": [
              "<style scoped>\n  .ansiout {\n    display: block;\n    unicode-bidi: embed;\n    white-space: pre-wrap;\n    word-wrap: break-word;\n    word-break: break-all;\n    font-family: \"Source Code Pro\", \"Menlo\", monospace;;\n    font-size: 13px;\n    color: #555;\n    margin-left: 4px;\n    line-height: 19px;\n  }\n</style>\n<div class=\"ansiout\"></div>"
            ]
          }
        }
      ],
      "execution_count": null
    },
    {
      "cell_type": "code",
      "source": [
        "df_covid.select('ano','date').show(4)"
      ],
      "metadata": {
        "application/vnd.databricks.v1+cell": {
          "title": "",
          "showTitle": false,
          "inputWidgets": {},
          "nuid": "2601791f-fd29-4df6-a847-ba11308c337b"
        },
        "id": "Et_MwkOO7gnp",
        "outputId": "83e4c733-0482-44b2-e772-5ccb64c88365"
      },
      "outputs": [
        {
          "output_type": "display_data",
          "metadata": {
            "application/vnd.databricks.v1+output": {
              "datasetInfos": [],
              "data": "<div class=\"ansiout\">+----+----------+\n| ano|      date|\n+----+----------+\n|2020|2020-03-17|\n|2020|2020-03-17|\n|2020|2020-03-18|\n|2020|2020-03-18|\n+----+----------+\nonly showing top 4 rows\n\n</div>",
              "removedWidgets": [],
              "addedWidgets": {},
              "metadata": {},
              "type": "html",
              "arguments": {}
            }
          },
          "data": {
            "text/html": [
              "<style scoped>\n  .ansiout {\n    display: block;\n    unicode-bidi: embed;\n    white-space: pre-wrap;\n    word-wrap: break-word;\n    word-break: break-all;\n    font-family: \"Source Code Pro\", \"Menlo\", monospace;;\n    font-size: 13px;\n    color: #555;\n    margin-left: 4px;\n    line-height: 19px;\n  }\n</style>\n<div class=\"ansiout\">+----+----------+\n ano|      date|\n+----+----------+\n2020|2020-03-17|\n2020|2020-03-17|\n2020|2020-03-18|\n2020|2020-03-18|\n+----+----------+\nonly showing top 4 rows\n\n</div>"
            ]
          }
        }
      ],
      "execution_count": null
    },
    {
      "cell_type": "code",
      "source": [
        "df_resumo = df_covid.groupBy('ano').sum('new_deaths','new_confirmed')"
      ],
      "metadata": {
        "application/vnd.databricks.v1+cell": {
          "title": "",
          "showTitle": false,
          "inputWidgets": {},
          "nuid": "b0a6e748-7449-462d-9173-f0c76f630785"
        },
        "id": "gEutn2KI7gnq",
        "outputId": "0b334857-d4de-4c64-e29b-0f60673b9ba9"
      },
      "outputs": [
        {
          "output_type": "display_data",
          "metadata": {
            "application/vnd.databricks.v1+output": {
              "datasetInfos": [],
              "data": "<div class=\"ansiout\"></div>",
              "removedWidgets": [],
              "addedWidgets": {},
              "metadata": {},
              "type": "html",
              "arguments": {}
            }
          },
          "data": {
            "text/html": [
              "<style scoped>\n  .ansiout {\n    display: block;\n    unicode-bidi: embed;\n    white-space: pre-wrap;\n    word-wrap: break-word;\n    word-break: break-all;\n    font-family: \"Source Code Pro\", \"Menlo\", monospace;;\n    font-size: 13px;\n    color: #555;\n    margin-left: 4px;\n    line-height: 19px;\n  }\n</style>\n<div class=\"ansiout\"></div>"
            ]
          }
        }
      ],
      "execution_count": null
    },
    {
      "cell_type": "code",
      "source": [
        "df_resumo.show()"
      ],
      "metadata": {
        "application/vnd.databricks.v1+cell": {
          "title": "",
          "showTitle": false,
          "inputWidgets": {},
          "nuid": "3915625b-b3ba-422b-b9da-9f002f07dc10"
        },
        "id": "5v2d-CQl7gnq",
        "outputId": "3d947d75-c619-4fe0-8b66-31a54ba357f7"
      },
      "outputs": [
        {
          "output_type": "display_data",
          "metadata": {
            "application/vnd.databricks.v1+output": {
              "datasetInfos": [],
              "data": "<div class=\"ansiout\">+----+---------------+------------------+\n| ano|sum(new_deaths)|sum(new_confirmed)|\n+----+---------------+------------------+\n|2020|         390144|          15362064|\n|2021|         329649|          11870065|\n+----+---------------+------------------+\n\n</div>",
              "removedWidgets": [],
              "addedWidgets": {},
              "metadata": {},
              "type": "html",
              "arguments": {}
            }
          },
          "data": {
            "text/html": [
              "<style scoped>\n  .ansiout {\n    display: block;\n    unicode-bidi: embed;\n    white-space: pre-wrap;\n    word-wrap: break-word;\n    word-break: break-all;\n    font-family: \"Source Code Pro\", \"Menlo\", monospace;;\n    font-size: 13px;\n    color: #555;\n    margin-left: 4px;\n    line-height: 19px;\n  }\n</style>\n<div class=\"ansiout\">+----+---------------+------------------+\n ano|sum(new_deaths)|sum(new_confirmed)|\n+----+---------------+------------------+\n2020|         390144|          15362064|\n2021|         329649|          11870065|\n+----+---------------+------------------+\n\n</div>"
            ]
          }
        }
      ],
      "execution_count": null
    },
    {
      "cell_type": "code",
      "source": [
        "df_uf_reg_spk = spark.createDataFrame(df_uf_reg)"
      ],
      "metadata": {
        "application/vnd.databricks.v1+cell": {
          "title": "",
          "showTitle": false,
          "inputWidgets": {},
          "nuid": "7b6bf61c-845d-4700-9724-7d39c22f7e1c"
        },
        "id": "jb75PlzY7gnq",
        "outputId": "b190c96c-0e72-4b4a-b41b-52a9035f80f9"
      },
      "outputs": [
        {
          "output_type": "display_data",
          "metadata": {
            "application/vnd.databricks.v1+output": {
              "datasetInfos": [],
              "data": "<div class=\"ansiout\"></div>",
              "removedWidgets": [],
              "addedWidgets": {},
              "metadata": {},
              "type": "html",
              "arguments": {}
            }
          },
          "data": {
            "text/html": [
              "<style scoped>\n  .ansiout {\n    display: block;\n    unicode-bidi: embed;\n    white-space: pre-wrap;\n    word-wrap: break-word;\n    word-break: break-all;\n    font-family: \"Source Code Pro\", \"Menlo\", monospace;;\n    font-size: 13px;\n    color: #555;\n    margin-left: 4px;\n    line-height: 19px;\n  }\n</style>\n<div class=\"ansiout\"></div>"
            ]
          }
        }
      ],
      "execution_count": null
    },
    {
      "cell_type": "code",
      "source": [
        "df_covid = df_covid.join(df_uf_reg_spk, df_covid['state']==df_uf_reg_spk['sigla'], how=\"left\")"
      ],
      "metadata": {
        "application/vnd.databricks.v1+cell": {
          "title": "",
          "showTitle": false,
          "inputWidgets": {},
          "nuid": "6c3a15a3-cb63-49b2-921e-87755d4ce38e"
        },
        "id": "cxbabqDh7gnq",
        "outputId": "6d9f2649-3e82-4b65-d8cc-cd06c17b7d66"
      },
      "outputs": [
        {
          "output_type": "display_data",
          "metadata": {
            "application/vnd.databricks.v1+output": {
              "datasetInfos": [],
              "data": "<div class=\"ansiout\"></div>",
              "removedWidgets": [],
              "addedWidgets": {},
              "metadata": {},
              "type": "html",
              "arguments": {}
            }
          },
          "data": {
            "text/html": [
              "<style scoped>\n  .ansiout {\n    display: block;\n    unicode-bidi: embed;\n    white-space: pre-wrap;\n    word-wrap: break-word;\n    word-break: break-all;\n    font-family: \"Source Code Pro\", \"Menlo\", monospace;;\n    font-size: 13px;\n    color: #555;\n    margin-left: 4px;\n    line-height: 19px;\n  }\n</style>\n<div class=\"ansiout\"></div>"
            ]
          }
        }
      ],
      "execution_count": null
    },
    {
      "cell_type": "code",
      "source": [
        "df_covid.columns"
      ],
      "metadata": {
        "application/vnd.databricks.v1+cell": {
          "title": "",
          "showTitle": false,
          "inputWidgets": {},
          "nuid": "42474725-107a-45c0-bcbf-ca97cc5ce403"
        },
        "id": "fgFUf9Y57gnq",
        "outputId": "065ccdb9-82b3-44a1-f125-96e7f1e025ba"
      },
      "outputs": [
        {
          "output_type": "display_data",
          "metadata": {
            "application/vnd.databricks.v1+output": {
              "datasetInfos": [],
              "data": "<div class=\"ansiout\">Out[43]: [&#39;city&#39;,\n &#39;city_ibge_code&#39;,\n &#39;date&#39;,\n &#39;epidemiological_week&#39;,\n &#39;estimated_population&#39;,\n &#39;estimated_population_2019&#39;,\n &#39;is_last&#39;,\n &#39;is_repeated&#39;,\n &#39;last_available_confirmed&#39;,\n &#39;last_available_confirmed_per_100k_inhabitants&#39;,\n &#39;last_available_date&#39;,\n &#39;last_available_death_rate&#39;,\n &#39;last_available_deaths&#39;,\n &#39;order_for_place&#39;,\n &#39;place_type&#39;,\n &#39;state&#39;,\n &#39;new_confirmed&#39;,\n &#39;new_deaths&#39;,\n &#39;ano&#39;,\n &#39;Sigla&#39;,\n &#39;Regiao&#39;]</div>",
              "removedWidgets": [],
              "addedWidgets": {},
              "metadata": {},
              "type": "html",
              "arguments": {}
            }
          },
          "data": {
            "text/html": [
              "<style scoped>\n  .ansiout {\n    display: block;\n    unicode-bidi: embed;\n    white-space: pre-wrap;\n    word-wrap: break-word;\n    word-break: break-all;\n    font-family: \"Source Code Pro\", \"Menlo\", monospace;;\n    font-size: 13px;\n    color: #555;\n    margin-left: 4px;\n    line-height: 19px;\n  }\n</style>\n<div class=\"ansiout\">Out[43]: [&#39;city&#39;,\n &#39;city_ibge_code&#39;,\n &#39;date&#39;,\n &#39;epidemiological_week&#39;,\n &#39;estimated_population&#39;,\n &#39;estimated_population_2019&#39;,\n &#39;is_last&#39;,\n &#39;is_repeated&#39;,\n &#39;last_available_confirmed&#39;,\n &#39;last_available_confirmed_per_100k_inhabitants&#39;,\n &#39;last_available_date&#39;,\n &#39;last_available_death_rate&#39;,\n &#39;last_available_deaths&#39;,\n &#39;order_for_place&#39;,\n &#39;place_type&#39;,\n &#39;state&#39;,\n &#39;new_confirmed&#39;,\n &#39;new_deaths&#39;,\n &#39;ano&#39;,\n &#39;Sigla&#39;,\n &#39;Regiao&#39;]</div>"
            ]
          }
        }
      ],
      "execution_count": null
    },
    {
      "cell_type": "code",
      "source": [
        "df_covid.groupBy('Regiao').sum('new_deaths').show()"
      ],
      "metadata": {
        "application/vnd.databricks.v1+cell": {
          "title": "",
          "showTitle": false,
          "inputWidgets": {},
          "nuid": "16c2103e-8d0f-4710-938b-63f1f80a6208"
        },
        "id": "uYzL8eVy7gnr",
        "outputId": "df950b5b-adbc-491f-dd8b-3f4d6ae31369"
      },
      "outputs": [
        {
          "output_type": "display_data",
          "metadata": {
            "application/vnd.databricks.v1+output": {
              "datasetInfos": [],
              "data": "<div class=\"ansiout\">+------------+---------------+\n|      Regiao|sum(new_deaths)|\n+------------+---------------+\n|    Nordeste|         151090|\n|         Sul|         110290|\n|     Sudeste|         320509|\n|Centro-Oeste|          67704|\n|       Norte|          70200|\n+------------+---------------+\n\n</div>",
              "removedWidgets": [],
              "addedWidgets": {},
              "metadata": {},
              "type": "html",
              "arguments": {}
            }
          },
          "data": {
            "text/html": [
              "<style scoped>\n  .ansiout {\n    display: block;\n    unicode-bidi: embed;\n    white-space: pre-wrap;\n    word-wrap: break-word;\n    word-break: break-all;\n    font-family: \"Source Code Pro\", \"Menlo\", monospace;;\n    font-size: 13px;\n    color: #555;\n    margin-left: 4px;\n    line-height: 19px;\n  }\n</style>\n<div class=\"ansiout\">+------------+---------------+\n      Regiao|sum(new_deaths)|\n+------------+---------------+\n    Nordeste|         151090|\n         Sul|         110290|\n     Sudeste|         320509|\nCentro-Oeste|          67704|\n       Norte|          70200|\n+------------+---------------+\n\n</div>"
            ]
          }
        }
      ],
      "execution_count": null
    },
    {
      "cell_type": "code",
      "source": [
        "print(spark.catalog.listTables())"
      ],
      "metadata": {
        "application/vnd.databricks.v1+cell": {
          "title": "",
          "showTitle": false,
          "inputWidgets": {},
          "nuid": "b8b733cf-8cc6-478e-9f43-c43e88145227"
        },
        "id": "zZG-8_Xh7gnr",
        "outputId": "cf6f9792-29d3-4304-f559-c55a61ac3f69"
      },
      "outputs": [
        {
          "output_type": "display_data",
          "metadata": {
            "application/vnd.databricks.v1+output": {
              "datasetInfos": [],
              "data": "<div class=\"ansiout\">[]\n</div>",
              "removedWidgets": [],
              "addedWidgets": {},
              "metadata": {},
              "type": "html",
              "arguments": {}
            }
          },
          "data": {
            "text/html": [
              "<style scoped>\n  .ansiout {\n    display: block;\n    unicode-bidi: embed;\n    white-space: pre-wrap;\n    word-wrap: break-word;\n    word-break: break-all;\n    font-family: \"Source Code Pro\", \"Menlo\", monospace;;\n    font-size: 13px;\n    color: #555;\n    margin-left: 4px;\n    line-height: 19px;\n  }\n</style>\n<div class=\"ansiout\">[]\n</div>"
            ]
          }
        }
      ],
      "execution_count": null
    },
    {
      "cell_type": "code",
      "source": [
        ""
      ],
      "metadata": {
        "application/vnd.databricks.v1+cell": {
          "title": "",
          "showTitle": false,
          "inputWidgets": {},
          "nuid": "e8cf3d23-cfdf-4783-a407-fcbe58564e58"
        },
        "id": "L3Fafxeq7gnr"
      },
      "outputs": [],
      "execution_count": null
    }
  ],
  "metadata": {
    "application/vnd.databricks.v1+notebook": {
      "notebookName": "handson_zup",
      "dashboards": [],
      "notebookMetadata": {
        "pythonIndentUnit": 2
      },
      "language": "python",
      "widgets": {},
      "notebookOrigID": 3378508570125871
    },
    "colab": {
      "name": "Introdução PySpark.ipynb",
      "provenance": [],
      "collapsed_sections": []
    },
    "language_info": {
      "name": "python"
    },
    "kernelspec": {
      "name": "python3",
      "display_name": "Python 3"
    }
  },
  "nbformat": 4,
  "nbformat_minor": 0
}