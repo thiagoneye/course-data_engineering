{
  "nbformat": 4,
  "nbformat_minor": 0,
  "metadata": {
    "colab": {
      "name": "exerciciocomplementar-0102.ipynb",
      "provenance": [],
      "collapsed_sections": []
    },
    "kernelspec": {
      "name": "python3",
      "display_name": "Python 3"
    },
    "language_info": {
      "name": "python"
    }
  },
  "cells": [
    {
      "cell_type": "markdown",
      "source": [
        "# Formação em Dados Encantech\n",
        "## Trilha 101\n",
        "### CESAR School\n",
        "### Lojas Renner\n",
        "\n",
        "**Thiago Ney Evaristo Rodrigues**"
      ],
      "metadata": {
        "id": "AIPGMfm-Q6zr"
      }
    },
    {
      "cell_type": "code",
      "execution_count": null,
      "metadata": {
        "id": "Zr8MD1QZP7CV",
        "colab": {
          "base_uri": "https://localhost:8080/"
        },
        "outputId": "cce9f84f-b186-44b8-d4b9-1fa151889a36"
      },
      "outputs": [
        {
          "output_type": "stream",
          "name": "stdout",
          "text": [
            "Qual o seu salário por hora? 20\n",
            "Qual o número de horas trabalhas no mês? 160\n",
            "\n",
            "O salário bruto foi de 3200.0\n",
            "O valor pago ao Imposto de Renda foi de 352.0\n",
            "O valor pago ao INSS foi de 256.0\n",
            "O valor pago ao Sindicato foi de 160.0\n",
            "O salário líquido foi de 2432.0\n"
          ]
        }
      ],
      "source": [
        "\"\"\"\n",
        "1. Faça um programa que pergunte quanto você ganha por hora e o número de horas trabalhadas no mês.\n",
        "Calcule e mostre o total do seu salário no referido mês, sabendo-se que são descontados 11% para o Imposto de Renda, 8% para o INSS e 5% para o sindicato, faça\n",
        "um programa que nos dê: salário bruto. quanto pagou ao INSS. quanto pagou ao sindicato. o salário líquido. calcule os descontos e o salário líquido, conforme\n",
        "informação abaixo: Salário Bruto - IR (11%) - INSS (8%) - Sindicato ( 5%) = Salário Liquido\n",
        "\"\"\"\n",
        "\n",
        "value_per_hour = float(input('Qual o seu salário por hora? '))\n",
        "worked_hours = float(input('Qual o número de horas trabalhas no mês? '))\n",
        "\n",
        "taxes_ir = 11/100\n",
        "taxes_inss = 8/100\n",
        "taxes_union = 5/100\n",
        "\n",
        "salary_total = value_per_hour*worked_hours\n",
        "\n",
        "part_ir = taxes_ir*salary_total\n",
        "part_inss = taxes_inss*salary_total\n",
        "part_union = taxes_union*salary_total\n",
        "\n",
        "salary_final = salary_total - (part_ir + part_inss + part_union)\n",
        "\n",
        "print(f'\\nO salário bruto foi de {salary_total}')\n",
        "print(f'O valor pago ao Imposto de Renda foi de {part_ir}')\n",
        "print(f'O valor pago ao INSS foi de {part_inss}')\n",
        "print(f'O valor pago ao Sindicato foi de {part_union}')\n",
        "print(f'O salário líquido foi de {salary_final}')\n"
      ]
    },
    {
      "cell_type": "code",
      "source": [
        "\"\"\"\n",
        "2. Faça um programa que peça o tamanho de um arquivo para download (em MB) e a velocidade de um link de Internet (em Mbps), calcule e informe o tempo\n",
        "aproximado de download do arquivo usando este link (em minutos).\n",
        "\"\"\"\n",
        "\n",
        "size = int(input('Qual é o tamanho do arquivo para download (em MB)? '))\n",
        "speed = int(input('Qual é a velocidade de um link de internet (em Mbps)? '))\n",
        "\n",
        "time = size/speed\n",
        "\n",
        "print(f'\\nO tempo aproximado de download do arquivo usando esse link é de {time/60:.2} minutos')\n"
      ],
      "metadata": {
        "colab": {
          "base_uri": "https://localhost:8080/"
        },
        "id": "EiXbJEBfeLvw",
        "outputId": "6d2ee6b1-0db6-40e5-f9b8-66e3d3e6280b"
      },
      "execution_count": null,
      "outputs": [
        {
          "output_type": "stream",
          "name": "stdout",
          "text": [
            "Qual é o tamanho do arquivo para download (em MB)? 1000\n",
            "Qual é a velocidade de um link de internet (em Mbps)? 100\n",
            "O tempo aproximado de download do arquivo usando esse link é de 0.17 minutos\n"
          ]
        }
      ]
    },
    {
      "cell_type": "code",
      "source": [
        "\"\"\"\n",
        "3. João Papo-de-Pescador, homem de bem, comprou um microcomputador para controlar o rendimento diário de seu trabalho.\n",
        "Toda vez que ele traz um peso de peixes maior que o estabelecido pelo regulamento de pesca do estado de São Paulo (50 quilos) deve pagar uma multa de R$ 4,00 por quilo excedente.\n",
        "João precisa que você faça um programa que leia a variável peso (peso de peixes) e calcule o excesso.\n",
        "Gravar na variável excesso a quantidade de quilos além do limite e na variável multa o valor da multa que João deverá pagar.\n",
        "Imprima os dados do programa com as mensagens adequadas.\n",
        "\"\"\"\n",
        "\n",
        "peso = float(input('Digite o peso de peixes: '))\n",
        "excesso = 0\n",
        "\n",
        "if peso > 50:\n",
        "  excesso = peso - 50\n",
        "\n",
        "multa = excesso*4\n",
        "\n",
        "print(f'\\nO excesso de peso foi de {excesso} kg, gerando uma multa de R$ {multa: .2}')\n"
      ],
      "metadata": {
        "colab": {
          "base_uri": "https://localhost:8080/"
        },
        "id": "AVyy5XJtfTwo",
        "outputId": "251ddf2b-1cac-4967-fdec-55c2a30a0c4c"
      },
      "execution_count": null,
      "outputs": [
        {
          "output_type": "stream",
          "name": "stdout",
          "text": [
            "Digite o peso de peixes: 51\n",
            "O excesso de peso foi de 1.0 kg, gerando uma multa de R$  4.0\n"
          ]
        }
      ]
    },
    {
      "cell_type": "code",
      "source": [
        "\"\"\"\n",
        "4. Faça um programa para uma loja de tintas. O programa deverá pedir o tamanho em metros quadrados da área a ser pintada.\n",
        "Considere que a cobertura da tinta é de 1 litro para cada 3 metros quadrados e que a tinta é vendida em latas de 18 litros, que custam R$ 80,00.\n",
        "Informe ao usuário a quantidades de latas de tinta a serem compradas e o preço total.\n",
        "\n",
        "Obs.: somente são vendidos um número inteiro de latas.\n",
        "\"\"\"\n",
        "\n",
        "area = float(input('Qual o tamanho em metros quadrados de área a ser pintado? '))\n",
        "rendimento_da_tinta = 1/3\n",
        "volume_da_lata = 18\n",
        "valor_da_lata = 80\n",
        "\n",
        "quantidade_de_latas = area*rendimento_da_tinta/volume_da_lata\n",
        "\n",
        "if quantidade_de_latas > int(quantidade_de_latas):\n",
        "    quantidade_de_latas = int(quantidade_de_latas) + 1\n",
        "else:\n",
        "    quantidade_de_latas = int(quantidade_de_latas)\n",
        "\n",
        "preco_total = quantidade_de_latas*valor_da_lata\n",
        "\n",
        "print(f'\\nA quantidade de latas de tinta a serem compradas é de {quantidade_de_latas}')\n",
        "print(f'O preço total a ser pago é de R$ {preco_total}')\n"
      ],
      "metadata": {
        "colab": {
          "base_uri": "https://localhost:8080/"
        },
        "id": "Ja2j477ni1Nj",
        "outputId": "d83f6c8c-998d-4db2-9ec2-18f611220477"
      },
      "execution_count": 6,
      "outputs": [
        {
          "output_type": "stream",
          "name": "stdout",
          "text": [
            "Qual o tamanho em metros quadrados de área a ser pintado? 100\n",
            "\n",
            "A quantidade de latas de tinta a serem compradas é de 2\n",
            "O preço total a ser pago é de R$ 160\n"
          ]
        }
      ]
    },
    {
      "cell_type": "code",
      "source": [
        "\"\"\"\n",
        "5. Faça um Programa para uma loja de tintas. O programa deverá pedir o tamanho em metros quadrados da área a ser pintada.\n",
        "Considere que a cobertura da tinta é de 1 litro para cada 6 metros quadrados e que a tinta é vendida em latas de 18 litros, que custam R$ 80,00 ou em galões\n",
        "de 3,6 litros, que custam R$ 25,00.\n",
        "Informe ao usuário as quantidades de tinta a serem compradas e os respectivos preços em 3 situações:\n",
        "1- Comprar apenas latas de 18 litros;\n",
        "2- Comprar apenas galões de 3,6 litros;\n",
        "3- Misturar latas e galões, de forma que o desperdício de tinta seja menor.\n",
        "Acrescente 10% de folga e sempre arredonde os valores para cima, isto é, considere latas cheias.\n",
        "\"\"\"\n",
        "\n",
        "area = float(input('Qual o tamanho em metros quadrados de área a ser pintado? '))\n",
        "rendimento_da_tinta = 1/6\n",
        "volume_da_lata = 18\n",
        "valor_da_lata = 80\n",
        "volume_do_galao = 3.6\n",
        "valor_do_galao = 25\n",
        "fator_de_seguranca = 1.1\n",
        "\n",
        "# Situação 1\n",
        "\n",
        "quantidade_de_latas = area*rendimento_da_tinta*fator_de_seguranca/volume_da_lata\n",
        "\n",
        "if quantidade_de_latas > int(quantidade_de_latas):\n",
        "    quantidade_de_latas = int(quantidade_de_latas) + 1\n",
        "else:\n",
        "    quantidade_de_latas = int(quantidade_de_latas)\n",
        "\n",
        "preco_total = quantidade_de_latas*valor_da_lata\n",
        "\n",
        "print('\\nSituação 1 - Comprar apenas latas de 18 litros:')\n",
        "print(f'A quantidade de latas de tinta a serem compradas é de {quantidade_de_latas}')\n",
        "print(f'O preço total a ser pago é de R$ {preco_total}')\n",
        "\n",
        "# Situação 2\n",
        "\n",
        "quantidade_de_galoes = area*rendimento_da_tinta*fator_de_seguranca/volume_do_galao\n",
        "\n",
        "if quantidade_de_galoes > int(quantidade_de_galoes):\n",
        "    quantidade_de_galoes = int(quantidade_de_galoes) + 1\n",
        "else:\n",
        "    quantidade_de_galoes = int(quantidade_de_galoes)\n",
        "\n",
        "preco_total = quantidade_de_galoes*valor_do_galao\n",
        "\n",
        "print('\\nSituação 2 - Comprar apenas galoes de 3.6 litros:')\n",
        "print(f'A quantidade de latas de tinta a serem compradas é de {quantidade_de_latas}')\n",
        "print(f'O preço total a ser pago é de R$ {preco_total}')\n",
        "\n",
        "# Situação 3\n",
        "\n",
        "litros_de_tinta = area*rendimento_da_tinta*fator_de_seguranca\n",
        "\n",
        "quantidade_de_latas = int(litros_de_tinta/volume_da_lata)\n",
        "quantidade_de_galoes = (litros_de_tinta - quantidade_de_latas*volume_da_lata)/volume_do_galao\n",
        "\n",
        "if quantidade_de_galoes > int(quantidade_de_galoes):\n",
        "    quantidade_de_galoes = int(quantidade_de_galoes) + 1\n",
        "else:\n",
        "    quantidade_de_galoes = int(quantidade_de_galoes)\n",
        "\n",
        "preco_total = (quantidade_de_latas*valor_da_lata) + (quantidade_de_galoes*valor_do_galao)\n",
        "\n",
        "print('\\nSituação 3 - Misturar latas e galões:')\n",
        "print(f'A quantidade de latas de tinta a serem compradas é de {quantidade_de_latas}')\n",
        "print(f'A quantidade de galões de tinta a serem compradas é de {quantidade_de_galoes}')\n",
        "print(f'O preço total a ser pago é de R$ {preco_total}')\n"
      ],
      "metadata": {
        "id": "7Ap-RCgUlcx6",
        "colab": {
          "base_uri": "https://localhost:8080/"
        },
        "outputId": "0a4e7cf7-d63a-4ace-d458-0dabf899ac52"
      },
      "execution_count": 3,
      "outputs": [
        {
          "output_type": "stream",
          "name": "stdout",
          "text": [
            "Qual o tamanho em metros quadrados de área a ser pintado? 10\n",
            "\n",
            "Situação 1 - Comprar apenas latas de 18 litros:\n",
            "A quantidade de latas de tinta a serem compradas é de 1\n",
            "O preço total a ser pago é de R$ 80\n",
            "\n",
            "Situação 2 - Comprar apenas galoes de 3.6 litros:\n",
            "A quantidade de latas de tinta a serem compradas é de 1\n",
            "O preço total a ser pago é de R$ 25\n",
            "\n",
            "Situação 3 - Misturar latas e galões:\n",
            "A quantidade de latas de tinta a serem compradas é de 0\n",
            "A quantidade de galões de tinta a serem compradas é de 1\n",
            "O preço total a ser pago é de R$ 25\n"
          ]
        }
      ]
    },
    {
      "cell_type": "code",
      "source": [
        "\"\"\"\n",
        "6. Um posto está vendendo combustíveis com a seguinte tabela de descontos:\n",
        "a. Álcool:até 20 litros, desconto de 3% por litro\n",
        "acima de 20 litros, desconto de 5% por litro\n",
        "b. Gasolina:até 20 litros, desconto de 4% por litro\n",
        "acima de 20 litros, desconto de 6% por litro\n",
        "\n",
        "Escreva um algoritmo que leia o número de litros vendidos, o tipo de combustível (codificado da seguinte forma: A-álcool, G-gasolina), calcule e imprima o valor\n",
        "a ser pago pelo cliente sabendo-se que o preço do litro da gasolina é 2.50 o preço do litro do álcool é 1,90.\n",
        "\"\"\"\n",
        "\n",
        "litros = float(input('Quantos litros de combustível? '))\n",
        "combustivel = input('Qual o tipo de combustível? Digite A para álcool ou G para Gasolina: ')\n",
        "\n",
        "# Constantes\n",
        "a_desconto_menos_20litros = 3/100\n",
        "a_desconto_mais_20litros = 5/100\n",
        "a_preco = 1.9\n",
        "g_desconto_menos_20litros = 4/100\n",
        "g_desconto_mais_20litros = 6/100\n",
        "g_preco = 2.5\n",
        "\n",
        "# Cálculo do Preço\n",
        "if combustivel == 'A':\n",
        "    total = litros*a_preco\n",
        "    if litros <= 20.0:\n",
        "        total *= 1 - a_desconto_menos_20litros\n",
        "    else:\n",
        "        total *= 1 - a_desconto_mais_20litros\n",
        "else:\n",
        "    total = litros*g_preco\n",
        "    if litros <= 20.0:\n",
        "        total *= 1 - g_desconto_menos_20litros\n",
        "    else:\n",
        "        total *= 1 - g_desconto_mais_20litros\n",
        "\n",
        "print(f'\\nO valor a ser pago pelo cliente é de R$ {round(total, 2)}')\n"
      ],
      "metadata": {
        "colab": {
          "base_uri": "https://localhost:8080/"
        },
        "id": "p3A_qIxv3q96",
        "outputId": "f2fab112-2806-4008-a49a-0e1e220e7dc7"
      },
      "execution_count": 12,
      "outputs": [
        {
          "output_type": "stream",
          "name": "stdout",
          "text": [
            "Quantos litros de combustível? 100\n",
            "Qual o tipo de combustível? Digite A para álcool ou G para Gasolina: G\n",
            "\n",
            "O valor a ser pago pelo cliente é de R$ 235.0\n"
          ]
        }
      ]
    },
    {
      "cell_type": "code",
      "source": [
        "\"\"\"\n",
        "7. Faça um Programa que leia 2 números e em seguida pergunte ao usuário qual operação ele deseja realizar. O resultado da operação deve ser acompanhado de uma\n",
        "frase que diga se o número é:\n",
        "a. par ou ímpar;\n",
        "b. positivo ou negativo;\n",
        "c. inteiro ou decimal.\n",
        "\"\"\"\n",
        "\n",
        "# Entradas\n",
        "numero1, numero2 = input('Digite dois números (ex.: 2 -11.1): ').split()\n",
        "operacao = input('Qual operação você deseja realizar entre esses números? (A-Adição, B-Subtração, C-Multiplicação ou D-Divisão): ')\n",
        "\n",
        "# Manipulação das Entradas\n",
        "if '.' in numero1:\n",
        "    numero1 = float(numero1)\n",
        "else:\n",
        "    numero1 = int(numero1)\n",
        "\n",
        "if '.' in numero2:\n",
        "    numero2 = float(numero2)\n",
        "else:\n",
        "    numero2 = int(numero2)\n",
        "\n",
        "# Operação\n",
        "if operacao == 'A':\n",
        "    resultado = numero1 + numero2\n",
        "elif operacao == 'B':\n",
        "    resultado = numero1 - numero2\n",
        "elif operacao == 'C':\n",
        "    resultado = numero1 * numero2\n",
        "else:\n",
        "    resultado = numero1 / numero2\n",
        "\n",
        "# Impressão\n",
        "print(f'\\nO resultado da operação é {resultado}')\n",
        "\n",
        "if resultado % 2 == 0:\n",
        "    print('O resultado é par')\n",
        "else:\n",
        "    print('O resultado é ímpar')\n",
        "\n",
        "if resultado >= 0:\n",
        "    print('O resultado é positivo')\n",
        "else:\n",
        "    print('O resultado é negativo')\n",
        "\n",
        "if (resultado - int(resultado)) != 0:\n",
        "    print('O resultado é decimal')\n",
        "else:\n",
        "    print('O resultado é inteiro')\n"
      ],
      "metadata": {
        "colab": {
          "base_uri": "https://localhost:8080/"
        },
        "id": "yvAuvewE9GrS",
        "outputId": "e1b4a97c-4791-444c-fe86-5c0754d47f9c"
      },
      "execution_count": 14,
      "outputs": [
        {
          "output_type": "stream",
          "name": "stdout",
          "text": [
            "Digite dois números (ex.: 2 -11.1): 37 -15.7\n",
            "Qual operação você deseja realizar entre esses números? (A-Adição, B-Subtração, C-Multiplicação ou D-Divisão): D\n",
            "\n",
            "O resultado da operação é -2.356687898089172\n",
            "O resultado é ímpar\n",
            "O resultado é negativo\n",
            "O resultado é decimal\n"
          ]
        }
      ]
    }
  ]
}