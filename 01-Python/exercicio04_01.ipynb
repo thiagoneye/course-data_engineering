{
  "nbformat": 4,
  "nbformat_minor": 0,
  "metadata": {
    "colab": {
      "name": "exercicio04.ipynb",
      "provenance": [],
      "collapsed_sections": []
    },
    "kernelspec": {
      "name": "python3",
      "display_name": "Python 3"
    },
    "language_info": {
      "name": "python"
    }
  },
  "cells": [
    {
      "cell_type": "markdown",
      "source": [
        "# Formação em Dados Encantech\n",
        "## Trilha 101\n",
        "### CESAR School\n",
        "### Lojas Renner\n",
        "\n",
        "**Thiago Ney Evaristo Rodrigues**"
      ],
      "metadata": {
        "id": "wS4zy7HqT86o"
      }
    },
    {
      "cell_type": "code",
      "source": [
        "\"\"\"\n",
        "1. Crie uma função que recebe um valor inteiro e avalie se ele é positivo ou negativo. Em caso negativo a função deve imprimir \"Erro\", em caso positivo a\n",
        "função deve multiplicar o numero por 5 e retorna-lo.\n",
        "\"\"\"\n",
        "\n",
        "def verifica_sinal(numero: int):\n",
        "    if numero < 0:\n",
        "        print('Erro')\n",
        "    else:\n",
        "        return numero*5\n",
        "\n",
        "verifica_sinal(-5)\n",
        "verifica_sinal(1)\n"
      ],
      "metadata": {
        "colab": {
          "base_uri": "https://localhost:8080/"
        },
        "id": "rDDZ1G8UUbol",
        "outputId": "ccef4804-788a-4d98-e114-59a0782ed8cc"
      },
      "execution_count": 17,
      "outputs": [
        {
          "output_type": "stream",
          "name": "stdout",
          "text": [
            "Erro\n"
          ]
        },
        {
          "output_type": "execute_result",
          "data": {
            "text/plain": [
              "5"
            ]
          },
          "metadata": {},
          "execution_count": 17
        }
      ]
    },
    {
      "cell_type": "code",
      "source": [
        "\"\"\"\n",
        "2. Crie uma função que receba uma lista de números inteiros e exiba todos os valores multiplicados por um valor inserido pelo usuário.\n",
        "\"\"\"\n",
        "\n",
        "def multiplica_lista(lista: list, valor: int):\n",
        "    nova_lista = list()\n",
        "    for numero in lista:\n",
        "        nova_lista.append(numero*valor)\n",
        "    print(nova_lista)\n",
        "\n",
        "minha_lista = [1, 2, 3, 4, 5]\n",
        "valor = 10\n",
        "\n",
        "multiplica_lista(minha_lista, valor)\n"
      ],
      "metadata": {
        "colab": {
          "base_uri": "https://localhost:8080/"
        },
        "id": "ZczmWt2cVuQg",
        "outputId": "86e63ef0-c302-4531-f9ca-952b6890ea46"
      },
      "execution_count": 14,
      "outputs": [
        {
          "output_type": "stream",
          "name": "stdout",
          "text": [
            "[10, 20, 30, 40, 50]\n"
          ]
        }
      ]
    },
    {
      "cell_type": "code",
      "source": [
        "\"\"\"\n",
        "3. Faça o exercicio 2 usando map e lambda\n",
        "\"\"\"\n",
        "\n",
        "minha_lista = [1, 2, 3, 4, 5]\n",
        "valor = 10\n",
        "\n",
        "print(list(map(lambda x: x*valor, minha_lista)))\n"
      ],
      "metadata": {
        "colab": {
          "base_uri": "https://localhost:8080/"
        },
        "id": "5a3wG7iYWqO9",
        "outputId": "92cef14e-ca28-4c63-e772-f1ff9557bc40"
      },
      "execution_count": 13,
      "outputs": [
        {
          "output_type": "stream",
          "name": "stdout",
          "text": [
            "[10, 20, 30, 40, 50]\n"
          ]
        }
      ]
    },
    {
      "cell_type": "code",
      "source": [
        "\"\"\"\n",
        "4. Crie um programa que receba do usuário 5 números inteiros e os exiba na tela na ordem contrária ao que foi inserido. A leitura dos números deve ser feita em\n",
        "uma função e a exibição dos valores em ordem contrária deve ocorrer em outra função.\n",
        "\"\"\"\n",
        "\n",
        "def leitura_de_valores() -> list:\n",
        "    valores = list()\n",
        "    for _ in range(5):\n",
        "        valores.append(int(input('Digite um número inteiro: ')))\n",
        "    \n",
        "    return valores\n",
        "\n",
        "def imprime_contrario(valores):\n",
        "    valores_ao_contrario = valores[::-1]\n",
        "    print(f'\\n{valores_ao_contrario}')\n",
        "\n",
        "valores = leitura_de_valores()\n",
        "imprime_contrario(valores)\n"
      ],
      "metadata": {
        "colab": {
          "base_uri": "https://localhost:8080/"
        },
        "id": "Qt5VfNMeYTI-",
        "outputId": "e363133a-362a-416e-a73d-ee17b9c6746c"
      },
      "execution_count": 21,
      "outputs": [
        {
          "output_type": "stream",
          "name": "stdout",
          "text": [
            "Digite um número inteiro: 1\n",
            "Digite um número inteiro: 2\n",
            "Digite um número inteiro: 3\n",
            "Digite um número inteiro: 4\n",
            "Digite um número inteiro: 5\n",
            "\n",
            "[5, 4, 3, 2, 1]\n"
          ]
        }
      ]
    },
    {
      "cell_type": "code",
      "source": [
        "\"\"\"\n",
        "5. Crie um programa que pede ao usuário para inserir um nome. Passe esse nome para uma função que deve retornar se esse nome existe ou não na lista de nomes\n",
        "convidados = [\"Eduardo\", \"Ivan\", \"Paloma\", \"Andrea\"].\n",
        "Letras maiusculas ou minusculas não devem importar, se o usuario digitar \"eduardo\" a função deve retornar que o nome existe na lista.\n",
        "\"\"\"\n",
        "\n",
        "def solicita_nome():\n",
        "    nome = input('Insira um nome: ')\n",
        "    return nome\n",
        "\n",
        "def verifica_convidado(nome) -> bool:\n",
        "    convidados = ['Eduardo', 'Ivan', 'Paloma', 'Andrea']\n",
        "    if nome.title() in convidados:\n",
        "        print('Esse nome está na lista de convidados!')\n",
        "    else:\n",
        "        print('Esse nome não está na lista de convidados!')\n",
        "\n",
        "nome = solicita_nome()\n",
        "verifica_convidado(nome)\n"
      ],
      "metadata": {
        "colab": {
          "base_uri": "https://localhost:8080/"
        },
        "id": "k8UgLqHnbDMr",
        "outputId": "eb5ff7d2-fe7d-4880-9761-ed3a36bd2fd6"
      },
      "execution_count": 24,
      "outputs": [
        {
          "output_type": "stream",
          "name": "stdout",
          "text": [
            "Insira um nome: EDUARDO\n",
            "Esse nome está na lista de convidados!\n"
          ]
        }
      ]
    }
  ]
}