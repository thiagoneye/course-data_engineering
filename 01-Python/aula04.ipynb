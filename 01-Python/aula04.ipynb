{
  "nbformat": 4,
  "nbformat_minor": 0,
  "metadata": {
    "colab": {
      "name": "aula04.ipynb",
      "provenance": [],
      "collapsed_sections": []
    },
    "kernelspec": {
      "name": "python3",
      "display_name": "Python 3"
    },
    "language_info": {
      "name": "python"
    }
  },
  "cells": [
    {
      "cell_type": "markdown",
      "source": [
        "# Formação em Dados Encantech\n",
        "## Trilha 101\n",
        "### CESAR School\n",
        "### Lojas Renner"
      ],
      "metadata": {
        "id": "MQ1h3M-mAxSV"
      }
    },
    {
      "cell_type": "markdown",
      "source": [
        "## Conteúdo\n",
        "\n",
        "1. Funções"
      ],
      "metadata": {
        "id": "54FXck2VA0in"
      }
    },
    {
      "cell_type": "markdown",
      "source": [
        "## Exemplos"
      ],
      "metadata": {
        "id": "fZSLG_khBoyw"
      }
    },
    {
      "cell_type": "code",
      "execution_count": 10,
      "metadata": {
        "colab": {
          "base_uri": "https://localhost:8080/"
        },
        "id": "nqgQQCiNAuQe",
        "outputId": "8f70d3c0-742c-4e6f-9530-cd9a197f7345"
      },
      "outputs": [
        {
          "output_type": "stream",
          "name": "stdout",
          "text": [
            "3\n"
          ]
        }
      ],
      "source": [
        "def soma(n1: int, n2: int):\n",
        "    if (type(n1) != int) or (type(n2) != int):\n",
        "        raise ValueError('Os valores de n1 e n2 devem ser inteiros.')\n",
        "    print(n1+n2)\n",
        "\n",
        "soma(1, 2)\n",
        "# soma('1', '2')\n"
      ]
    },
    {
      "cell_type": "code",
      "source": [
        "def velocidade(distancia: float, tempo: float) -> float:\n",
        "    print(distancia/tempo)\n",
        "\n",
        "velocidade(tempo=5, distancia=10)\n"
      ],
      "metadata": {
        "colab": {
          "base_uri": "https://localhost:8080/"
        },
        "id": "nkFHsyakEwiy",
        "outputId": "36c7fa9d-0e33-410b-bc36-4094d25721a7"
      },
      "execution_count": 11,
      "outputs": [
        {
          "output_type": "stream",
          "name": "stdout",
          "text": [
            "2.0\n"
          ]
        }
      ]
    },
    {
      "cell_type": "code",
      "source": [
        "def maior_valor(*valores):\n",
        "    print(max(valores))\n",
        "\n",
        "maior_valor(1, 5, 2, 6, 4, 3)\n"
      ],
      "metadata": {
        "colab": {
          "base_uri": "https://localhost:8080/"
        },
        "id": "VJU3dUdkHPT2",
        "outputId": "54949597-f2cb-4c78-ef4a-80fea3e5ba14"
      },
      "execution_count": 13,
      "outputs": [
        {
          "output_type": "stream",
          "name": "stdout",
          "text": [
            "6\n"
          ]
        }
      ]
    },
    {
      "cell_type": "code",
      "source": [
        "# Funções Recursivas\n",
        "\n",
        "def dobra_lencol(lencol, gaveta):\n",
        "\tif lencol <= gaveta:\n",
        "\t\treturn 0\n",
        "\telse:\n",
        "\t\treturn 1 + dobra_lencol(lencol/2, gaveta)\n",
        "\n",
        "print(dobra_lencol(1, 5))\n",
        "print(dobra_lencol(6, 5))\n",
        "print(dobra_lencol(78, 5))\n"
      ],
      "metadata": {
        "colab": {
          "base_uri": "https://localhost:8080/"
        },
        "id": "eZ8L1mq3IGR7",
        "outputId": "79cfaac4-692a-4b17-c958-5bfff10d9637"
      },
      "execution_count": 18,
      "outputs": [
        {
          "output_type": "stream",
          "name": "stdout",
          "text": [
            "0\n",
            "1\n",
            "4\n"
          ]
        }
      ]
    }
  ]
}