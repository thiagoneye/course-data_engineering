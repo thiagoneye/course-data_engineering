{
  "nbformat": 4,
  "nbformat_minor": 0,
  "metadata": {
    "colab": {
      "name": "aula03.ipynb",
      "provenance": [],
      "collapsed_sections": [],
      "toc_visible": true
    },
    "kernelspec": {
      "name": "python3",
      "display_name": "Python 3"
    },
    "language_info": {
      "name": "python"
    }
  },
  "cells": [
    {
      "cell_type": "markdown",
      "source": [
        "# Formação em Dados Encantech\n",
        "## Trilha 101\n",
        "### CESAR School\n",
        "### Lojas Renner"
      ],
      "metadata": {
        "id": "qO2sNW1m6VIs"
      }
    },
    {
      "cell_type": "markdown",
      "source": [
        "## Conteúdo\n",
        "\n",
        "1. Listas\n",
        "\n",
        "2. Estrutura de Repetição **for**\n",
        "\n",
        "3. Estrutura de Repetição **while**"
      ],
      "metadata": {
        "id": "c3pfVv7y6W5E"
      }
    },
    {
      "cell_type": "markdown",
      "source": [
        "## Exercício"
      ],
      "metadata": {
        "id": "HVVHWSG-_fbq"
      }
    },
    {
      "cell_type": "code",
      "source": [
        "convidados = ['Eduardo', 'Lucas', 'Everton', 'Pedro', 'Cristina', 'Andrea']\n",
        "\n",
        "# Do índice 2 até o índice 4:\n",
        "print(convidados[2:5])\n",
        "\n",
        "# Do índice 2 até o final pulando de 3 em 3:\n",
        "print(convidados[0::3])\n",
        "\n",
        "# Do índice 3 até o começo:\n",
        "print(convidados[3::-1])\n"
      ],
      "metadata": {
        "colab": {
          "base_uri": "https://localhost:8080/"
        },
        "id": "MKSu1XZh_Ds2",
        "outputId": "6b8707c7-c377-4d9b-abe8-17d4c8624175"
      },
      "execution_count": 5,
      "outputs": [
        {
          "output_type": "stream",
          "name": "stdout",
          "text": [
            "['Everton', 'Pedro', 'Cristina']\n",
            "['Eduardo', 'Pedro']\n",
            "['Pedro', 'Everton', 'Lucas', 'Eduardo']\n"
          ]
        }
      ]
    }
  ]
}