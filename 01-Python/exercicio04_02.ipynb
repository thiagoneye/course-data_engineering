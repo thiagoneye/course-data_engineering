{
  "nbformat": 4,
  "nbformat_minor": 0,
  "metadata": {
    "colab": {
      "name": "Python-exercicio04_02.ipynb",
      "provenance": [],
      "collapsed_sections": []
    },
    "kernelspec": {
      "name": "python3",
      "display_name": "Python 3"
    },
    "language_info": {
      "name": "python"
    }
  },
  "cells": [
    {
      "cell_type": "markdown",
      "source": [
        "# Formação em Dados Encantech\n",
        "## Trilha 101\n",
        "### CESAR School\n",
        "### Lojas Renner\n",
        "\n",
        "**Thiago Ney Evaristo Rodrigues**"
      ],
      "metadata": {
        "id": "nDgdwxvYcgGq"
      }
    },
    {
      "cell_type": "markdown",
      "source": [
        "## Exercícios de Aprofundamento"
      ],
      "metadata": {
        "id": "G2ptmrMCnyHq"
      }
    },
    {
      "cell_type": "code",
      "execution_count": null,
      "metadata": {
        "colab": {
          "base_uri": "https://localhost:8080/"
        },
        "id": "MklCtMB8cYHU",
        "outputId": "694c8f7c-0a7e-4d46-86b3-9bb5da1d9f6e"
      },
      "outputs": [
        {
          "output_type": "stream",
          "name": "stdout",
          "text": [
            "Digite um número: 3\n",
            "   1\n",
            "   2   2\n",
            "   3   3   3\n"
          ]
        }
      ],
      "source": [
        "\"\"\"\n",
        "1. Faça um programa para imprimir:\n",
        "\n",
        "```\n",
        "    1\n",
        "    2   2\n",
        "    3   3   3\n",
        "    .....\n",
        "    n   n   n   n   n   n  ... n\n",
        "```\n",
        "\"\"\"\n",
        "\n",
        "numero = int(input('Digite um número: '))\n",
        "\n",
        "for idx in range(1, numero+1):\n",
        "    print(('   ' + str(idx))*idx)\n"
      ]
    },
    {
      "cell_type": "code",
      "source": [
        "\"\"\"\n",
        "2. Faça um programa para imprimir:\n",
        "\n",
        "```\n",
        "    1\n",
        "    1   2\n",
        "    1   2   3\n",
        "    .....\n",
        "    1   2   3   ...  n\n",
        "```\n",
        "\"\"\"\n",
        "\n",
        "numero = int(input('Digite um número: '))\n",
        "\n",
        "for i in range(1, numero+1):\n",
        "    linha = list()\n",
        "    for j in range(1, i+1):\n",
        "        linha.append('   ' + str(j))\n",
        "    \n",
        "    print(*linha)\n"
      ],
      "metadata": {
        "colab": {
          "base_uri": "https://localhost:8080/"
        },
        "id": "d5oVXtCcd4d9",
        "outputId": "f1e113c7-ef93-4fc9-8908-a74f90fb6c34"
      },
      "execution_count": null,
      "outputs": [
        {
          "output_type": "stream",
          "name": "stdout",
          "text": [
            "Digite um número: 3\n",
            "   1\n",
            "   1    2\n",
            "   1    2    3\n"
          ]
        }
      ]
    },
    {
      "cell_type": "code",
      "source": [
        "\"\"\"\n",
        "3. Faça uma função que receba um valor inteiro e positivo e calcule o seu fatorial.\n",
        "\"\"\"\n",
        "\n",
        "def fatorial(numero: int) -> int:\n",
        "    resultado = 1\n",
        "    while numero > 1:\n",
        "        resultado *= numero\n",
        "        numero -= 1\n",
        "    \n",
        "    return resultado\n",
        "\n",
        "numero = int(input('Digite um número inteiro e positivo: '))\n",
        "\n",
        "resultado = fatorial(numero)\n",
        "print(resultado)\n"
      ],
      "metadata": {
        "colab": {
          "base_uri": "https://localhost:8080/"
        },
        "id": "wwdA_k1ge1Zf",
        "outputId": "df884d8e-fe87-473f-d527-736a337b8408"
      },
      "execution_count": null,
      "outputs": [
        {
          "output_type": "stream",
          "name": "stdout",
          "text": [
            "Digite um número inteiro e positivo: 4\n",
            "24\n"
          ]
        }
      ]
    },
    {
      "cell_type": "code",
      "source": [
        "\"\"\"\n",
        "4. Faça um programa com uma função chamada soma_imposto. A função possui dois parâmetros formais: taxa_imposto, que é a quantia de imposto sobre vendas\n",
        "expressa em porcentagem e custo, que é o custo de um item antes do imposto. A função “altera” o valor de custo para incluir o imposto sobre vendas.\n",
        "\"\"\"\n",
        "\n",
        "def soma_imposto(taxa_imposto: float, custo: float) -> float:\n",
        "    custo *= (1 + taxa_imposto)\n",
        "    return custo\n",
        "\n",
        "taxa_imposto = 0.1\n",
        "custo = 1000\n",
        "\n",
        "custo_final = soma_imposto(taxa_imposto, custo)\n",
        "print(custo_final)\n"
      ],
      "metadata": {
        "colab": {
          "base_uri": "https://localhost:8080/"
        },
        "id": "wmL4Fm_Gf9IE",
        "outputId": "8b2838e8-3865-4965-c77b-b5e2e0ef227f"
      },
      "execution_count": null,
      "outputs": [
        {
          "output_type": "stream",
          "name": "stdout",
          "text": [
            "1100.0\n"
          ]
        }
      ]
    },
    {
      "cell_type": "code",
      "source": [
        "\"\"\"\n",
        "5. Um palíndromo é uma palavra que se soletra da mesma forma nos dois sentidos, como “osso” e “reviver”. Escreva um função que dado uma palavra verifique se\n",
        "ela é um palíndromo.\n",
        "\"\"\"\n",
        "\n",
        "def verifica_palindromo(palavra: str):\n",
        "    palavra_contraria = palavra[::-1]\n",
        "\n",
        "    if palavra.lower() == palavra_contraria.lower():\n",
        "        print(f'A palavra {palavra} é um palíndromo.')\n",
        "    else:\n",
        "        print(f'A palavra {palavra} não é um palíndromo.')\n",
        "\n",
        "palavra = input('Digite uma palavra: ')\n",
        "verifica_palindromo(palavra)\n"
      ],
      "metadata": {
        "colab": {
          "base_uri": "https://localhost:8080/"
        },
        "id": "NtAEPklAgpIo",
        "outputId": "0a289cd6-680f-4e2d-958c-be0ab15de5db"
      },
      "execution_count": null,
      "outputs": [
        {
          "output_type": "stream",
          "name": "stdout",
          "text": [
            "Digite uma palavra: Ama\n",
            "A palavra Ama é um palíndromo.\n"
          ]
        }
      ]
    },
    {
      "cell_type": "code",
      "source": [
        "\"\"\"\n",
        "6. Construa uma função que receba uma string como parâmetro e devolva outra string com os carateres embaralhados. Por exemplo: se função receber a palavra\n",
        "python, pode retornar npthyo, ophtyn ou qualquer outra combinação possível, de forma aleatória. Padronize em sua função que todos os caracteres serão\n",
        "devolvidos em caixa alta ou caixa baixa, independentemente de como foram digitados.\n",
        "\"\"\"\n",
        "\n",
        "import random as rd\n",
        "\n",
        "def embaralha(palavra: str):\n",
        "    nova_palavra = list()\n",
        "    nova_palavra[:0] = palavra\n",
        "    rd.shuffle(nova_palavra)\n",
        "    nova_palavra = ''.join(nova_palavra)\n",
        "    nova_palavra = nova_palavra.lower()\n",
        "\n",
        "    return nova_palavra\n",
        "\n",
        "palavra = input('Digite uma palavra: ')\n",
        "nova_palavra = embaralha(palavra)\n",
        "print(nova_palavra)\n"
      ],
      "metadata": {
        "colab": {
          "base_uri": "https://localhost:8080/"
        },
        "id": "GdifKqNbhx_J",
        "outputId": "79b000e3-7571-4f5c-fdcd-b49951ac4801"
      },
      "execution_count": null,
      "outputs": [
        {
          "output_type": "stream",
          "name": "stdout",
          "text": [
            "Digite uma palavra: Thiago Ney Evaristo Rodrigues\n",
            " tviye oe snuiehdrsoratraogig\n"
          ]
        }
      ]
    },
    {
      "cell_type": "code",
      "source": [
        "\"\"\"\n",
        "7. Faça um programa que leia um arquivo texto contendo uma lista de endereços IP e gere um outro arquivo, contendo um relatório dos endereços IP válidos e\n",
        "inválidos.\n",
        "\n",
        "> Será considerado um IP válido quando nenhuma de suas partes ultrapassar o valor de 255.\n",
        "\n",
        "O arquivo de entrada possui o seguinte formato:\n",
        "```\n",
        "        200.135.80.9\n",
        "        192.168.1.1\n",
        "        8.35.67.74\n",
        "        257.32.4.5\n",
        "        85.345.1.2\n",
        "        1.2.3.4\n",
        "        9.8.234.5\n",
        "        192.168.0.256\n",
        "```\n",
        "- O arquivo de saída possui o seguinte formato:\n",
        "```\n",
        "        [Endereços válidos:]\n",
        "        200.135.80.9\n",
        "        192.168.1.1\n",
        "        8.35.67.74\n",
        "        1.2.3.4\n",
        "        9.8.234.5\n",
        "\n",
        "        [Endereços inválidos:]\n",
        "        257.32.4.5\n",
        "        85.345.1.2\n",
        "        192.168.0.256\n",
        "```\n",
        "\"\"\"\n",
        "\n",
        "import numpy as np\n",
        "\n",
        "with open('IPs.txt') as arquivo:\n",
        "    lista_de_ips = arquivo.readlines()\n",
        "\n",
        "lista_de_ips = [ip.replace('\\n', '') for ip in lista_de_ips]\n",
        "\n",
        "ips_validos = list()\n",
        "ips_invalidos = list()\n",
        "\n",
        "for ip in lista_de_ips:\n",
        "    numeros = ip.split('.')\n",
        "    numeros = [int(numero) for numero in numeros]\n",
        "    numeros = np.array(numeros)\n",
        "\n",
        "    if np.all(numeros <= 255):\n",
        "        ips_validos.append(ip)\n",
        "    else:\n",
        "        ips_invalidos.append(ip)\n",
        "\n",
        "with open('Classificação de IPs.txt', mode='w') as file:\n",
        "    file.write('[Endereços válidos:]')\n",
        "    for ip in ips_validos:\n",
        "        file.write(f'\\n{ip}')\n",
        "    \n",
        "    file.write('\\n\\n[Endereços inválidos:]')\n",
        "    for ip in ips_invalidos:\n",
        "        file.write(f'\\n{ip}')\n"
      ],
      "metadata": {
        "id": "PdRgqzxqiD6p"
      },
      "execution_count": null,
      "outputs": []
    },
    {
      "cell_type": "code",
      "source": [
        "\"\"\"\n",
        "8. A ACME Inc., uma empresa de 500 funcionários, está tendo problemas de espaço em disco no seu servidor de arquivos. Para tentar resolver este problema, o\n",
        "Administrador de Rede precisa saber qual o espaço ocupado pelos usuários, e identificar os usuários com maior espaço ocupado. Através de um programa, baixado\n",
        "da Internet, ele conseguiu gerar o seguinte arquivo, com o nome dos usuários e seus repectivos consumos em `Bytes` chamado \"usuarios.txt\":\n",
        "```\n",
        "      alexandre       456123789\n",
        "      anderson        1245698456\n",
        "      antonio         123456456\n",
        "      carlos          91257581\n",
        "      cesar           987458\n",
        "      rosemary        789456125\n",
        "```\n",
        "Neste arquivo, o nome do usuário possui 15 caracteres. A partir deste arquivo, você deve criar um programa que gere um relatório, chamado \"relatório.txt\", no\n",
        "seguinte formato:\n",
        "```\n",
        "    ACME Inc.       Uso do espaço em disco pelos usuários\n",
        "\n",
        "    Nr.  Usuário        Espaço utilizado     % do uso\n",
        "\n",
        "    1    alexandre       434,99 MB             16,85%\n",
        "    2    anderson       1187,99 MB             46,02%\n",
        "    3    antonio         117,73 MB              4,56%\n",
        "    4    carlos           87,03 MB              3,37%\n",
        "    5    cesar             0,94 MB              0,04%\n",
        "    6    rosemary        752,88 MB             29,16%\n",
        "\n",
        "    Espaço total ocupado: 2581,57 MB\n",
        "    Espaço médio ocupado: 430,26 MB\n",
        "```\n",
        "O arquivo de entrada deve ser lido uma única vez, e os dados armazenados em memória, caso sejam necessários, de forma a agilizar a execução do programa. A\n",
        "conversão de espaço ocupado em disco, de bytes para megabytes deverá ser feita através de uma função separada, que será chamada pelo programa principal. O\n",
        "cálculo do percentual de uso também deverá ser feito através de uma função, que será chamada pelo programa principal.\n",
        "\"\"\"\n",
        "\n",
        "import pandas as pd\n",
        "\n",
        "dados = list()\n",
        "with open('usuarios.txt') as arquivo:\n",
        "    dados = arquivo.readlines()\n",
        "\n",
        "dados = [linha.replace('\\n', '').split() for linha in dados]\n",
        "\n",
        "valores = list()\n",
        "for indice in range(len(dados)):\n",
        "    valor = round(int(dados[indice][1])/1048576, 2)\n",
        "    dados[indice][1] = str(valor).replace('.', ',') + ' MB'\n",
        "    valores.append(valor)\n",
        "\n",
        "total = sum(valores)\n",
        "media = round(sum(valores)/len(valores), 2)\n",
        "\n",
        "for indice in range(len(dados)):\n",
        "    percentual = round(valores[indice]*100/total, 2)\n",
        "    dados[indice].append(str(percentual).replace('.', ',') + '%')\n",
        "\n",
        "total = str(total).replace('.', ',')\n",
        "media = str(media).replace('.', ',')\n",
        "\n",
        "indice = 1\n",
        "with open('relatório.txt', mode='w') as arquivo:\n",
        "    arquivo.write('ACME Inc. Uso do espaço em disco pelos usuários')\n",
        "    arquivo.write('\\n\\nNr. Usuário Espaço utilizado % do uso\\n')\n",
        "    \n",
        "    for linha in dados:\n",
        "        arquivo.write(f'\\n{indice} {linha[0]} {linha[1]} {linha[2]}')\n",
        "        indice += 1\n",
        "    \n",
        "    arquivo.write(f'\\n\\nEspaço total ocupado: {total} MB \\nEspaço médio ocupado: {media} MB')\n"
      ],
      "metadata": {
        "id": "M2e0pxVXnVwO"
      },
      "execution_count": 5,
      "outputs": []
    },
    {
      "cell_type": "code",
      "source": [
        "\"\"\"\n",
        "9. Escreva um programa que pergunte nomes de alunos de uma sala de aula. O número de alunos é desconhecido, por isso o programa deve perguntar até que seja\n",
        "digitada a palavra “fim”. Depois, o programa deve sortear um aluno para apresentar o trabalho primeiro.\n",
        "\n",
        "Exemplo:\n",
        "```\n",
        "Digite um nome: Yann\n",
        "\n",
        "Digite um nome: Camilinha\n",
        "\n",
        "Digite um nome: Richardneydson\n",
        "\n",
        "Digite um nome: Claudiane\n",
        "\n",
        "Digite um nome: fim\n",
        "\n",
        "O primeiro aluno a apresentar será: Claudiane.\n",
        "```\n",
        "\n",
        "> **Dica: veja a biblioteca random**\n",
        "\"\"\"\n"
      ],
      "metadata": {
        "id": "r1mydBgEnhMV"
      },
      "execution_count": null,
      "outputs": []
    },
    {
      "cell_type": "code",
      "source": [
        "\"\"\"\n",
        "10. Escreva um programa que receba o nome de uma sequência de times de futebol e, com as informações obtidas, exiba uma das partidas de um torneio com os times, de forma que:\n",
        "\n",
        "- As partidas devem ser geradas de forma aleatória.\n",
        "- O número de times digitados deve ser par.\n",
        "- O programa deve pedir nomes até que seja digitado “fim”\n",
        "Exemplo:\n",
        "\n",
        "Entrada:\n",
        "```\n",
        "Digite um time: Flamengo\n",
        "Digite um time: Vasco\n",
        "Digite um time: Fluminense\n",
        "Digite um time: Botafogo\n",
        "Digite um time: Bangu 2\n",
        "Digite um time: Barcelona\n",
        "Digite um time: fim\n",
        "```\n",
        "Saída:\n",
        "```\n",
        "Barcelona x Botafogo\n",
        "Fluminense x Vasco\n",
        "Bangu 2 x Flamengo\n",
        "```\n",
        "\n",
        "> **Dica: veja a biblioteca random**\n",
        "\"\"\"\n"
      ],
      "metadata": {
        "id": "a-sU0d65nmJS"
      },
      "execution_count": null,
      "outputs": []
    },
    {
      "cell_type": "code",
      "source": [
        "\"\"\"\n",
        "11. Escreva um programa que implemente o jogo conhecido como **pedra, papel, tesoura**. Neste jogo, o usuário e o computador escolhem entre pedra, papel ou\n",
        "tesoura. Sabendo que pedra ganha de tesoura, papel ganha de pedra e tesoura ganha de papel, exiba na tela o ganhador: usuário ou computador. Para esta\n",
        "implementação, assuma que o número 0 representa pedra, 1 representa papel e 2 representa tesoura. O programa deve pedir para o usuário entrar com sua escolha,\n",
        "gerar aleatoriamente a escolha do computador, exibir a escolha e indicar o vencedor\n",
        "\n",
        "> **Dica: veja a biblioteca random**\n",
        "\"\"\"\n"
      ],
      "metadata": {
        "id": "EBUU2fqCnp2g"
      },
      "execution_count": null,
      "outputs": []
    }
  ]
}