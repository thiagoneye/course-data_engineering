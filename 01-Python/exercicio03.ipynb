{
  "nbformat": 4,
  "nbformat_minor": 0,
  "metadata": {
    "colab": {
      "name": "exercicio03.ipynb",
      "provenance": [],
      "collapsed_sections": [],
      "toc_visible": true
    },
    "kernelspec": {
      "name": "python3",
      "display_name": "Python 3"
    },
    "language_info": {
      "name": "python"
    }
  },
  "cells": [
    {
      "cell_type": "markdown",
      "source": [
        "# Formação em Dados Encantech\n",
        "## Trilha 101\n",
        "### CESAR School\n",
        "### Lojas Renner\n",
        "\n",
        "**Thiago Ney Evaristo Rodrigues**"
      ],
      "metadata": {
        "id": "Qa0Y1T31NvRq"
      }
    },
    {
      "cell_type": "code",
      "execution_count": 2,
      "metadata": {
        "colab": {
          "base_uri": "https://localhost:8080/"
        },
        "id": "2orkSkKMNlHh",
        "outputId": "fde26ddc-0597-4e33-c06b-2cea718526c0"
      },
      "outputs": [
        {
          "output_type": "stream",
          "name": "stdout",
          "text": [
            "1\n",
            "3\n",
            "5\n",
            "7\n",
            "9\n",
            "11\n",
            "13\n",
            "15\n",
            "17\n",
            "19\n",
            "21\n",
            "23\n",
            "25\n",
            "27\n",
            "29\n",
            "31\n",
            "33\n",
            "35\n",
            "37\n",
            "39\n",
            "41\n",
            "43\n",
            "45\n",
            "47\n",
            "49\n"
          ]
        }
      ],
      "source": [
        "\"\"\"\n",
        "1. Faça um programa que imprima na tela apenas os números ímpares entre 1 e 50.\n",
        "\"\"\"\n",
        "\n",
        "for numero in range(1, 51):\n",
        "    if numero % 2 != 0:\n",
        "        print(numero)\n"
      ]
    },
    {
      "cell_type": "code",
      "source": [
        "\"\"\"\n",
        "2. Faça um programa que leia 5 números e informe o maior número.\n",
        "\"\"\"\n",
        "\n",
        "numeros = []\n",
        "for _ in range(5):\n",
        "    numeros.append(float(input('Digite um número: ')))\n",
        "\n",
        "print(f'\\nO maior número digitado foi {max(numeros)}.')\n"
      ],
      "metadata": {
        "colab": {
          "base_uri": "https://localhost:8080/"
        },
        "id": "Z4Vzt_M-N6Ng",
        "outputId": "f82b4e5b-264a-4cba-f22a-21e03939361b"
      },
      "execution_count": 9,
      "outputs": [
        {
          "output_type": "stream",
          "name": "stdout",
          "text": [
            "Digite um número: 10\n",
            "Digite um número: -3\n",
            "Digite um número: 5.5\n",
            "Digite um número: 8\n",
            "Digite um número: 9\n",
            "\n",
            "O maior número digitado foi 10.0.\n"
          ]
        }
      ]
    },
    {
      "cell_type": "code",
      "source": [
        "\"\"\"\n",
        "3. Escreva um programa que receba um numero n, e logo após, receba n itens populando uma lista. E imprima no final cada um\n",
        "desses itens na ordem oposta em que foram inseridos.\n",
        "\"\"\"\n",
        "\n",
        "n = int(input('Digite o número de itens: '))\n",
        "\n",
        "itens = list()\n",
        "for _ in range(n):\n",
        "    itens.append(input('Digite um item: '))\n",
        "\n",
        "print('\\n')\n",
        "for item in itens:\n",
        "    print(item)\n"
      ],
      "metadata": {
        "colab": {
          "base_uri": "https://localhost:8080/"
        },
        "id": "GbFTM7WWN9cZ",
        "outputId": "872dcda9-d909-4072-a7ba-37d0d767a0ca"
      },
      "execution_count": 8,
      "outputs": [
        {
          "output_type": "stream",
          "name": "stdout",
          "text": [
            "Digite o número de itens: 3\n",
            "Digite um item: a\n",
            "Digite um item: b\n",
            "Digite um item: c\n",
            "\n",
            "\n",
            "a\n",
            "b\n",
            "c\n"
          ]
        }
      ]
    },
    {
      "cell_type": "code",
      "source": [
        "\"\"\"\n",
        "4. Faça um programa que recebe um número de 1 a 10 do usuário e imprime a tabuada de multiplicação desse número.\n",
        "\"\"\"\n",
        "\n",
        "entrada = int(input('Digite um número de 1 a 10: '))\n",
        "\n",
        "print('\\n')\n",
        "for numero in range(1, 11):\n",
        "    print(f'{numero} x {entrada} = {numero*entrada}')\n"
      ],
      "metadata": {
        "colab": {
          "base_uri": "https://localhost:8080/"
        },
        "id": "ElHgFSlmOCDU",
        "outputId": "aa4abee0-41a5-4cd0-daff-3d20e381f0ec"
      },
      "execution_count": 11,
      "outputs": [
        {
          "output_type": "stream",
          "name": "stdout",
          "text": [
            "Digite um número de 1 a 10: 10\n",
            "\n",
            "\n",
            "1 x 10 = 10\n",
            "2 x 10 = 20\n",
            "3 x 10 = 30\n",
            "4 x 10 = 40\n",
            "5 x 10 = 50\n",
            "6 x 10 = 60\n",
            "7 x 10 = 70\n",
            "8 x 10 = 80\n",
            "9 x 10 = 90\n",
            "10 x 10 = 100\n"
          ]
        }
      ]
    },
    {
      "cell_type": "code",
      "source": [
        "\"\"\"\n",
        "5. Imagine que você tem um problema no qual precisa somar todos os números múltiplos de 3 até 1000, ou até a soma\n",
        "ultrapassar 300. Se caso o número seja múltiplo de 3 deve ser exibido \"Buscando...\". Mas caso o número seja múltiplo de 5,\n",
        "nada deve ser exibido.\n",
        "\"\"\"\n",
        "\n",
        "soma = 0\n",
        "\n",
        "for numero in range(1001):\n",
        "    if numero % 3 == 0:\n",
        "        soma += numero\n",
        "        if numero % 5 != 0:\n",
        "            print('Buscando...')\n",
        "    \n",
        "    if soma > 300:\n",
        "        break\n"
      ],
      "metadata": {
        "colab": {
          "base_uri": "https://localhost:8080/"
        },
        "id": "nOFwgZ2eOHIp",
        "outputId": "c40ab2b2-f1e6-4dd5-9c54-0d6e606c2abd"
      },
      "execution_count": 18,
      "outputs": [
        {
          "output_type": "stream",
          "name": "stdout",
          "text": [
            "Buscando...\n",
            "Buscando...\n",
            "Buscando...\n",
            "Buscando...\n",
            "Buscando...\n",
            "Buscando...\n",
            "Buscando...\n",
            "Buscando...\n",
            "Buscando...\n",
            "Buscando...\n",
            "Buscando...\n",
            "Buscando...\n"
          ]
        }
      ]
    }
  ]
}