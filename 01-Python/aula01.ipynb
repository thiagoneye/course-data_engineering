{
  "nbformat": 4,
  "nbformat_minor": 0,
  "metadata": {
    "colab": {
      "name": "aula01.ipynb",
      "provenance": [],
      "toc_visible": true
    },
    "kernelspec": {
      "name": "python3",
      "display_name": "Python 3"
    },
    "language_info": {
      "name": "python"
    }
  },
  "cells": [
    {
      "cell_type": "markdown",
      "source": [
        "# Formação em Dados Encantech\n",
        "## Trilha 101\n",
        "### CESAR School\n",
        "### Lojas Renner"
      ],
      "metadata": {
        "id": "UUELUbxHxCgM"
      }
    },
    {
      "cell_type": "markdown",
      "source": [
        "## Conteúdo\n",
        "\n",
        "1. Introdução à Variáveis\n",
        "\n",
        "2. Tipos de Variáveis\n",
        "\n",
        "3. Estruturas de Dados\n",
        "\n",
        "4. Atribuição Múltipla de Variáveis\n",
        "\n",
        "5. A Função `print()`\n",
        "\n",
        "6. Sintaxe do Comentário\n",
        "\n",
        "7. Criação e Impressão de Strings\n",
        "\n",
        "8. Funções para Conversão de Tipos\n",
        "\n",
        "9. Operações Aritméticas\n",
        "\n",
        "10. Strings\n",
        "\n",
        "11. Caracteres de Escape\n",
        "\n",
        "12. Operações com String\n",
        "\n",
        "13. Funções `len()`, `str.count()`, `str.lower()`, `str.upper()`, `str.split()`, `str.replace()`\n",
        "\n",
        "14. f-Strings\n"
      ],
      "metadata": {
        "id": "gGhUIzmOxeam"
      }
    },
    {
      "cell_type": "markdown",
      "source": [
        "## Exercício\n",
        "\n",
        "### Conversão de Tipos"
      ],
      "metadata": {
        "id": "xXEF6agAF3cW"
      }
    },
    {
      "cell_type": "code",
      "source": [
        "# a. int para float\n",
        "a = 5\n",
        "print(f'O tipo de a ({a}) é {type(a)}.')\n",
        "a = float(a)\n",
        "print(f'Agora o tipo de a ({a}) é {type(a)}.')\n",
        "\n",
        "# b. float para int\n",
        "b = 10.0\n",
        "print(f'\\nO tipo de b ({b}) é {type(b)}.')\n",
        "b = int(b)\n",
        "print(f'Agora o tipo de b ({b}) é {type(b)}.')\n",
        "\n",
        "# c. bool para int\n",
        "c = True\n",
        "print(f'\\nO tipo de c ({c}) é {type(c)}.')\n",
        "c = float(c)\n",
        "print(f'Agora o tipo de c ({c}) é {type(c)}.')\n",
        "\n",
        "# d. str para int\n",
        "d = '3'\n",
        "print(f'\\nO tipo de d ({d}) é {type(d)}.')\n",
        "d = int(d)\n",
        "print(f'Agora o tipo de d ({d}) é {type(d)}.')\n",
        "\n",
        "# e. str para float\n",
        "e = '5'\n",
        "print(f'\\nO tipo de e ({e}) é {type(e)}.')\n",
        "e = float(e)\n",
        "print(f'Agora o tipo de e ({e}) é {type(e)}.')\n",
        "\n",
        "# f. str para bool\n",
        "f = 'True'\n",
        "print(f'\\nO tipo de f ({f}) é {type(f)}.')\n",
        "f = bool(f)\n",
        "print(f'Agora o tipo de f ({f}) é {type(f)}.')\n",
        "\n",
        "# g. int para str\n",
        "g = 9\n",
        "print(f'\\nO tipo de g ({g}) é {type(g)}.')\n",
        "g = str(g)\n",
        "print(f'Agora o tipo de g ({g}) é {type(g)}.')\n",
        "\n",
        "# h. float para str\n",
        "h = 7.5\n",
        "print(f'\\nO tipo de h ({h}) é {type(h)}.')\n",
        "h = str(h)\n",
        "print(f'Agora o tipo de h ({h}) é {type(h)}.')\n",
        "\n",
        "# i. bool para str\n",
        "i = True\n",
        "print(f'\\nO tipo de i ({i}) é {type(i)}.')\n",
        "i = str(i)\n",
        "print(f'Agora o tipo de i ({i}) é {type(i)}.')\n"
      ],
      "metadata": {
        "colab": {
          "base_uri": "https://localhost:8080/"
        },
        "id": "yYunyUHZ83_d",
        "outputId": "ecb0aae0-bc11-4c87-cc47-c1654dfa15f2"
      },
      "execution_count": 10,
      "outputs": [
        {
          "output_type": "stream",
          "name": "stdout",
          "text": [
            "O tipo de a (5) é <class 'int'>.\n",
            "Agora o tipo de a (5.0) é <class 'float'>.\n",
            "\n",
            "O tipo de b (10.0) é <class 'float'>.\n",
            "Agora o tipo de b (10) é <class 'int'>.\n",
            "\n",
            "O tipo de c (True) é <class 'bool'>.\n",
            "Agora o tipo de c (1.0) é <class 'float'>.\n",
            "\n",
            "O tipo de d (3) é <class 'str'>.\n",
            "Agora o tipo de d (3) é <class 'int'>.\n",
            "\n",
            "O tipo de e (5) é <class 'str'>.\n",
            "Agora o tipo de e (5.0) é <class 'float'>.\n",
            "\n",
            "O tipo de f (True) é <class 'str'>.\n",
            "Agora o tipo de f (True) é <class 'bool'>.\n",
            "\n",
            "O tipo de g (9) é <class 'int'>.\n",
            "Agora o tipo de g (9) é <class 'str'>.\n",
            "\n",
            "O tipo de h (7.5) é <class 'float'>.\n",
            "Agora o tipo de h (7.5) é <class 'str'>.\n",
            "\n",
            "O tipo de i (True) é <class 'bool'>.\n",
            "Agora o tipo de i (True) é <class 'str'>.\n"
          ]
        }
      ]
    }
  ]
}