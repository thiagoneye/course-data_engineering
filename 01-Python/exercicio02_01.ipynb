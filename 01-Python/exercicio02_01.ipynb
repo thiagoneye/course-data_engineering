{
  "nbformat": 4,
  "nbformat_minor": 0,
  "metadata": {
    "colab": {
      "name": "exercicio02_01.ipynb",
      "provenance": [],
      "collapsed_sections": []
    },
    "kernelspec": {
      "name": "python3",
      "display_name": "Python 3"
    },
    "language_info": {
      "name": "python"
    }
  },
  "cells": [
    {
      "cell_type": "markdown",
      "source": [
        "# Formação em Dados Encantech\n",
        "## Trilha 101\n",
        "### CESAR School\n",
        "### Lojas Renner\n",
        "\n",
        "**Thiago Ney Evaristo Rodrigues**"
      ],
      "metadata": {
        "id": "4QZnhPrSDDiO"
      }
    },
    {
      "cell_type": "markdown",
      "source": [
        "1. Verifique se as igualdades abaixo são verdadeiras:\n",
        " a) 2 x 3 = 5\n",
        "b) 2 x 2.0 = 4\n",
        " c) a + 3 = b, para a=3 e b=15\n",
        "2. Faça um programa que calcule as raízes de uma equação do segundo grau, na forma ax² + bx + c. O programa deverá pedir os valores de a, b e c e fazer as consistências, informando ao usuário nas seguintes situações:\n",
        "\n",
        "a) Se o usuário informar o valor de A igual a zero, a equação não é do segundo grau e o programa não deve pedir os demais valores, sendo encerrado;\n",
        "b) Se o delta calculado for negativo, a equação não possui raizes reais. Informe ao usuário e encerre o programa;\n",
        "c) Se o delta calculado for igual a zero a equação possui apenas uma raiz real; informe-a ao usuário;\n",
        "d) Se o delta for positivo, a equação possui duas raiz reais; informe-as ao usuário;\n",
        "3. Faça um Programa que peça um número correspondente a um determinado ano e em seguida informe se este ano é ou não bissexto.\n",
        "4. Faça um Programa que peça uma data no formato dd/mm/aaaa e determine se a mesma é uma data válida.\n",
        "5. Faça um Programa que leia um número e exiba o dia correspondente da semana. (1-Domingo, 2- Segunda, etc.), se digitar outro valor deve aparecer valor inválido."
      ],
      "metadata": {
        "id": "hEb1y8M7C-ey"
      }
    },
    {
      "cell_type": "code",
      "execution_count": 3,
      "metadata": {
        "colab": {
          "base_uri": "https://localhost:8080/"
        },
        "id": "O2bMQ_XhC9Td",
        "outputId": "2edefccb-8894-4de9-b9f9-7c5c536961c8"
      },
      "outputs": [
        {
          "output_type": "stream",
          "name": "stdout",
          "text": [
            "a) 2 x 3 = 5? False\n",
            "a) 2 x 2.0 = 4? True\n",
            "a) a + 3 = b? False\n"
          ]
        }
      ],
      "source": [
        "# 1. Verifique se as igualdades abaixo são verdadeiras: a) 2 x 3 = 5 b) 2 x 2.0 = 4 c) a + 3 = b, para a=3 e b=15\n",
        "\n",
        "a = 3\n",
        "b = 15\n",
        "\n",
        "print(f'a) 2 x 3 = 5? {2*3 == 5}')\n",
        "print(f'b) 2 x 2.0 = 4? {2*2.0 == 4}')\n",
        "print(f'c) a + 3 = b? {a + 3 == b}')"
      ]
    },
    {
      "cell_type": "code",
      "source": [
        "# 2. Faça um programa que calcule as raízes de uma equação do segundo grau, na forma ax² + bx + c. O programa deverá pedir os valores de a, b e c e fazer as consistências, informando ao usuário nas seguintes situações:\n",
        "# a) Se o usuário informar o valor de A igual a zero, a equação não é do segundo grau e o programa não deve pedir os demais valores, sendo encerrado; b) Se o delta calculado for negativo, a equação não possui raizes reais. Informe ao usuário e encerre o programa; c) Se o delta calculado for igual a zero a equação possui apenas uma raiz real; informe-a ao usuário; d) Se o delta for positivo, a equação possui duas raiz reais; informe-as ao usuário;\n",
        "\n",
        "a = float(input('Insira o valor de a: '))\n",
        "\n",
        "if a == 0:\n",
        "    print('A equação não é do segundo grau.')\n",
        "else:\n",
        "    b = float(input('Insira o valor de b: '))\n",
        "    c = float(input('Insira o valor de c: '))\n",
        "\n",
        "    delta = b**2 - 4*a*c\n",
        "\n",
        "    if delta < 0:\n",
        "        print(f'O valor de delta é {delta}, logo a equação não possui raízes reais.')\n",
        "    elif delta == 0:\n",
        "        x = -b/(2*a)\n",
        "        print(f'A raiz é única e igual a {x}')\n",
        "    else:\n",
        "        x1 = (-b + delta)/(2*a)\n",
        "        x2 = (-b - delta)/(2*a)\n",
        "        print(f'As raízes da equação são {x1} e {x2}')\n"
      ],
      "metadata": {
        "colab": {
          "base_uri": "https://localhost:8080/"
        },
        "id": "FHe2zhsnELk8",
        "outputId": "27e39089-a047-4d43-f1d0-1f2e3267dd88"
      },
      "execution_count": 6,
      "outputs": [
        {
          "output_type": "stream",
          "name": "stdout",
          "text": [
            "Insira o valor de a: 0\n",
            "A equação não é do segundo grau.\n"
          ]
        }
      ]
    },
    {
      "cell_type": "code",
      "source": [
        "# 3. Faça um Programa que peça um número correspondente a um determinado ano e em seguida informe se este ano é ou não bissexto.\n",
        "\n",
        "year = float(input('Informe um ano: '))\n",
        "\n",
        "if year % 4 != 0:\n",
        "\tprint('O ano não é bissexto')\n",
        "elif year % 100 != 0:\n",
        "\tprint('O ano é bissexto')\n",
        "elif year % 400 != 0:\n",
        "\tprint('O ano não é bissexto')\n",
        "else:\n",
        "\tprint('O ano é bissexto')\n"
      ],
      "metadata": {
        "colab": {
          "base_uri": "https://localhost:8080/"
        },
        "id": "JhLD-3J7GJJ1",
        "outputId": "17aafd49-db54-4e61-946b-b570737b9ce0"
      },
      "execution_count": 11,
      "outputs": [
        {
          "output_type": "stream",
          "name": "stdout",
          "text": [
            "Informe um ano: 2000\n",
            "O ano é bissexto\n"
          ]
        }
      ]
    },
    {
      "cell_type": "code",
      "source": [
        "# 4. Faça um Programa que peça uma data no formato dd/mm/aaaa e determine se a mesma é uma data válida.\n",
        "\n",
        "day, month, year = input('Informe uma data no formato dd/mm/aaaa: ').split('/')\n",
        "\n",
        "day = int(day)\n",
        "month = int(month)\n",
        "year = int(year)\n",
        "\n",
        "# Verificação de valores negativos\n",
        "\n",
        "if (day <= 0) or (month <= 0) or (year <= 0):\n",
        "    print('A data não é válida')\n",
        "else:\n",
        "    \n",
        "    # Verificação de valor de mês maior que 12\n",
        "\n",
        "    if (month > 12):\n",
        "        print('A data não é válida')\n",
        "    else:\n",
        "        \n",
        "        # Verificação do valor de dias (para cada mês)\n",
        "\n",
        "        if (month == 4) or (month == 6) or (month == 9) or (month == 11):\n",
        "            if (day >= 31):\n",
        "                print('A data não é válida')\n",
        "            else:\n",
        "                print('A data é válida')\n",
        "        else:\n",
        "            if (month != 2):\n",
        "                if (day > 31):\n",
        "                    print('A data não é válida')\n",
        "                else:\n",
        "                    print('A data é válida')\n",
        "            else:\n",
        "                if (year % 4 != 0):\n",
        "                    if (day > 28):\n",
        "                        print('A data não é válida')\n",
        "                    else:\n",
        "                        print('A data é válida')\n",
        "                elif (year % 100 != 0):\n",
        "                    if (day > 29):\n",
        "                        print('A data não é válida')\n",
        "                    else:\n",
        "                        print('A data é válida')\n",
        "                elif year % 400 != 0:\n",
        "                    if (day > 28):\n",
        "                        print('A data não é válida')\n",
        "                    else:\n",
        "                        print('A data é válida')\n",
        "                else:\n",
        "                    if (day > 29):\n",
        "                        print('A data não é válida')\n",
        "                    else:\n",
        "                        print('A data é válida')\n"
      ],
      "metadata": {
        "colab": {
          "base_uri": "https://localhost:8080/"
        },
        "id": "ep6DpwZAHeKe",
        "outputId": "6a7d0d44-a68f-419a-9745-befa95ea7a52"
      },
      "execution_count": 17,
      "outputs": [
        {
          "output_type": "stream",
          "name": "stdout",
          "text": [
            "Informe uma data no formato dd/mm/aaaa: 22/03/2022\n",
            "A data é válida\n"
          ]
        }
      ]
    },
    {
      "cell_type": "code",
      "source": [
        "# 5. Faça um Programa que leia um número e exiba o dia correspondente da semana. (1-Domingo, 2- Segunda, etc.), se digitar outro valor deve aparecer valor inválido.\n",
        "\n",
        "day = int(input('Digite um número: '))\n",
        "\n",
        "if day == 1:\n",
        "    print('O dia da semana é domingo')\n",
        "elif day == 2:\n",
        "    print('O dia da semana é segunda')\n",
        "elif day == 3:\n",
        "    print('O dia da semana é terça')\n",
        "elif day == 4:\n",
        "    print('O dia da semana é quarta')\n",
        "elif day == 5:\n",
        "    print('O dia da semana é quinta')\n",
        "elif day == 6:\n",
        "    print('O dia da semana é sexta')\n",
        "elif day == 7:\n",
        "    print('O dia da semana é sábado')\n",
        "else:\n",
        "    print('Valor inválido')\n"
      ],
      "metadata": {
        "colab": {
          "base_uri": "https://localhost:8080/"
        },
        "id": "kXsFyNndIt5H",
        "outputId": "f82e8240-77dd-409b-fc3a-93ade444632b"
      },
      "execution_count": 13,
      "outputs": [
        {
          "output_type": "stream",
          "name": "stdout",
          "text": [
            "Digite um número: 1\n",
            "O dia da semana é domingo\n"
          ]
        }
      ]
    }
  ]
}