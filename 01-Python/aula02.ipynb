{
  "nbformat": 4,
  "nbformat_minor": 0,
  "metadata": {
    "colab": {
      "name": "aula02.ipynb",
      "provenance": [],
      "collapsed_sections": [],
      "toc_visible": true
    },
    "kernelspec": {
      "name": "python3",
      "display_name": "Python 3"
    },
    "language_info": {
      "name": "python"
    }
  },
  "cells": [
    {
      "cell_type": "markdown",
      "source": [
        "# Formação em Dados Encantech\n",
        "## Trilha 101\n",
        "### CESAR School\n",
        "### Lojas Renner"
      ],
      "metadata": {
        "id": "6-7uC6XIn7vL"
      }
    },
    {
      "cell_type": "markdown",
      "source": [
        "## Conteúdo\n",
        "\n",
        "1. Operadores Lógicos\n",
        "\n",
        "2. Operadores de Comparação\n",
        "\n",
        "3. Operadores de Identidade\n",
        "\n",
        "4. Estruturas Condicionais\n",
        "\n",
        "5. Shorthand\n"
      ],
      "metadata": {
        "id": "GBxsOaOUq2xR"
      }
    },
    {
      "cell_type": "markdown",
      "source": [
        "## Comentários\n",
        "\n",
        "- Uma estratégia (um padrão de projeto) para se evitar o uso de vários *ifs* aninhados é o uso do **Early Return**, que consiste na criação de uma função que proporciona um *retorno mais cedo* para a condicional."
      ],
      "metadata": {
        "id": "1Cb4k7-EzRzU"
      }
    }
  ]
}