{
  "nbformat": 4,
  "nbformat_minor": 0,
  "metadata": {
    "colab": {
      "name": "exercicio01.ipynb",
      "provenance": [],
      "collapsed_sections": []
    },
    "kernelspec": {
      "name": "python3",
      "display_name": "Python 3"
    },
    "language_info": {
      "name": "python"
    }
  },
  "cells": [
    {
      "cell_type": "markdown",
      "source": [
        "# Formação em Dados Encantech\n",
        "## Trilha 101\n",
        "### CESAR School\n",
        "### Lojas Renner\n",
        "\n",
        "**Thiago Ney Evaristo Rodrigues**"
      ],
      "metadata": {
        "id": "cMqse86l728G"
      }
    },
    {
      "cell_type": "markdown",
      "source": [
        "1. Faça um programa que mostre a mensagem \"\" na tela\n",
        "2. Faça um programa que peça um número e então mostre a mensagem O número informado foi [número].\n",
        "3. Faça um programa que peça dois números e imprima a soma\n",
        "4. Faça um programa que peça as 4 notas bimestrais e mostre a média.\n",
        "5. Faça um programa que converta metros para centímetros.\n",
        "6. Faça um programa que peça o raio de um círculo, calcule e mostre sua área.\n",
        "7. Faça um programa que calcule a área de um quadrado, em seguida mostre o dobro desta área para o usuário.\n",
        "8. Faça um programa que pergunte quanto você ganha por hora e o número de horas trabalhadas no mês. Calcule e mostre o total do seu salário no referido mês.\n",
        "9.  Escreva um programa que substitui as ocorrencias de um caractere 0 em uma string por outro caractere 1.\n",
        "10. Faça um programa que receba do usuario uma string. O programa imprime a string sem suas vogais. *texto em itálico*"
      ],
      "metadata": {
        "id": "ar24Eli58Abu"
      }
    },
    {
      "cell_type": "code",
      "execution_count": null,
      "metadata": {
        "colab": {
          "base_uri": "https://localhost:8080/"
        },
        "id": "OOE8nQB17wCu",
        "outputId": "68ab6e7e-7c0a-4f19-e49d-e97168142a6a"
      },
      "outputs": [
        {
          "output_type": "stream",
          "name": "stdout",
          "text": [
            "\"\"\n"
          ]
        }
      ],
      "source": [
        "# 1. Faça um programa que mostre a mensagem \"\" na tela\n",
        "\n",
        "print('\\\"\\\"')"
      ]
    },
    {
      "cell_type": "code",
      "source": [
        "# 2. Faça um programa que peça um número e então mostre a mensagem O número informado foi [número].\n",
        "\n",
        "value = float(input('Digite um número: '))\n",
        "print(f'O número informado foi {value}')"
      ],
      "metadata": {
        "colab": {
          "base_uri": "https://localhost:8080/"
        },
        "id": "gmjud3898UiW",
        "outputId": "3455a490-02f9-4ad6-b781-1a58b58baf89"
      },
      "execution_count": 9,
      "outputs": [
        {
          "output_type": "stream",
          "name": "stdout",
          "text": [
            "Digite um número: 10\n",
            "O número informado foi 10.0\n"
          ]
        }
      ]
    },
    {
      "cell_type": "code",
      "source": [
        "# 3. Faça um programa que peça dois números e imprima a soma\n",
        "\n",
        "value1 = float(input('Digite um número: '))\n",
        "value2 = float(input('Digite outro número: '))\n",
        "\n",
        "print(f'A soma do dois números digitados é {value1 + value2}')"
      ],
      "metadata": {
        "colab": {
          "base_uri": "https://localhost:8080/"
        },
        "id": "FAxZlLDh8k5x",
        "outputId": "30f67bc3-e9ff-4704-b34c-25d699e62707"
      },
      "execution_count": 8,
      "outputs": [
        {
          "output_type": "stream",
          "name": "stdout",
          "text": [
            "Digite um número: 5\n",
            "Digite outro número: 3\n",
            "A soma do dois números digitados é 8.0\n"
          ]
        }
      ]
    },
    {
      "cell_type": "code",
      "source": [
        "# 4. Faça um programa que peça as 4 notas bimestrais e mostre a média.\n",
        "\n",
        "note1, note2, note3, note4 = input('Digite 4 notas bimestrais (ex.: 7.5 8.0 9.2 10.0): ').split()\n",
        "note1, note2, note3, note4 = float(note1), float(note2), float(note3), float(note4)\n",
        "\n",
        "mean = (note1 + note2 + note3 + note4)/4\n",
        "\n",
        "print(f'A média das notas é {mean:.2}')"
      ],
      "metadata": {
        "colab": {
          "base_uri": "https://localhost:8080/"
        },
        "id": "IfZ5jaxB9Efh",
        "outputId": "f9f30162-0d77-4915-f8ce-9d0d07048a7c"
      },
      "execution_count": 7,
      "outputs": [
        {
          "output_type": "stream",
          "name": "stdout",
          "text": [
            "Digite 4 notas bimestrais (ex.: 7.5 8.0 9.2 10.0): 7.3 8.0 9.5 9.5\n",
            "A média das notas é 8.6\n"
          ]
        }
      ]
    },
    {
      "cell_type": "code",
      "source": [
        "# 5. Faça um programa que converta metros para centímetros.\n",
        "\n",
        "value = float(input('Digite um valor em metros: '))\n",
        "\n",
        "print(f'O valor em centímetros é {value*100}')"
      ],
      "metadata": {
        "colab": {
          "base_uri": "https://localhost:8080/"
        },
        "id": "SZdf8qJg-TL_",
        "outputId": "14b6336c-70ee-4d05-d79d-e9121d658f75"
      },
      "execution_count": 6,
      "outputs": [
        {
          "output_type": "stream",
          "name": "stdout",
          "text": [
            "Digite um valor em metros: 42\n",
            "O valor em centímetros é 4200.0\n"
          ]
        }
      ]
    },
    {
      "cell_type": "code",
      "source": [
        "# 6. Faça um programa que peça o raio de um círculo, calcule e mostre sua área.\n",
        "\n",
        "value = float(input('Digite o valor do raio de um círculo: '))\n",
        "\n",
        "print(f'A área do círculo é de {3.14*(value**2)}')"
      ],
      "metadata": {
        "colab": {
          "base_uri": "https://localhost:8080/"
        },
        "id": "P7z8eI97-sv4",
        "outputId": "199ade35-ce3f-4f77-a987-96cf54a1118a"
      },
      "execution_count": null,
      "outputs": [
        {
          "output_type": "stream",
          "name": "stdout",
          "text": [
            "Digite o valor do raio de um círculo: 10\n",
            "A área do círculo é de 314.0\n"
          ]
        }
      ]
    },
    {
      "cell_type": "code",
      "source": [
        "# 7. Faça um programa que calcule a área de um quadrado, em seguida mostre o dobro desta área para o usuário.\n",
        "\n",
        "side = float(input('Informe o lado de um quadrado: '))\n",
        "area = side**2\n",
        "\n",
        "print(f'A área do quadrado é de {area}')\n",
        "print(f'O dobro da área é de {2*area}')"
      ],
      "metadata": {
        "colab": {
          "base_uri": "https://localhost:8080/"
        },
        "id": "5gnD2Npp_GIE",
        "outputId": "b59e9397-d424-47fd-f0c2-211d41c79f94"
      },
      "execution_count": null,
      "outputs": [
        {
          "output_type": "stream",
          "name": "stdout",
          "text": [
            "Informe o lado de um quadrado: 10\n",
            "A área do quadrado é de 100.0\n",
            "O dobro da área é de 200.0\n"
          ]
        }
      ]
    },
    {
      "cell_type": "code",
      "source": [
        "# 8. Faça um programa que pergunte quanto você ganha por hora e o número de horas trabalhadas no mês. Calcule e mostre o total do seu salário no referido mês.\n",
        "\n",
        "value_per_hour = float(input('Quanto você ganha por hora? '))\n",
        "worked_hours = float(input('Quantas horas foram trabalhadas no mês? '))\n",
        "salary = value_per_hour*worked_hours\n",
        "\n",
        "print(f'O total do seu salário no referido mês é de {salary}')"
      ],
      "metadata": {
        "colab": {
          "base_uri": "https://localhost:8080/"
        },
        "id": "HSHpq8NT_o19",
        "outputId": "690cd563-081c-446a-eb09-b67daaac4583"
      },
      "execution_count": 5,
      "outputs": [
        {
          "output_type": "stream",
          "name": "stdout",
          "text": [
            "Quanto você ganha por hora? 10\n",
            "Quantas horas foram trabalhadas no mês? 160\n",
            "O total do seu salário no referido mês é de 1600.0\n"
          ]
        }
      ]
    },
    {
      "cell_type": "code",
      "source": [
        "# 9. Escreva um programa que substitui as ocorrências de um caractere 0 em uma string por outro caractere 1.\n",
        "\n",
        "my_string = input('Digite uma string que contenha o caractere 0 (zero): ')\n",
        "new_string = my_string.replace('0', '1')\n",
        "\n",
        "print(new_string)"
      ],
      "metadata": {
        "colab": {
          "base_uri": "https://localhost:8080/"
        },
        "id": "NGEfj-uYAX1g",
        "outputId": "94e7b41b-a36b-4f02-a939-dd4c25ecf5ed"
      },
      "execution_count": 4,
      "outputs": [
        {
          "output_type": "stream",
          "name": "stdout",
          "text": [
            "Digite uma string que contenha o caractere 0 (zero): kadf0avdfa0 asdfasdf 0\n",
            "kadf1avdfa1 asdfasdf 1\n"
          ]
        }
      ]
    },
    {
      "cell_type": "code",
      "source": [
        "# 10. Faça um programa que receba do usuário uma string. O programa imprime a string sem suas vogais.texto em itálico.\n",
        "\n",
        "inserted_string = input('Digite uma string: ')\n",
        "returned_string = inserted_string.replace('a', '').replace('e', '').replace('i', '').replace('o', '').replace('u', '') # Remove as vogais (minúsculas)\n",
        "returned_string = inserted_string.replace('A', '').replace('E', '').replace('I', '').replace('O', '').replace('U', '') # Remove as vogais (maiúsculas)\n",
        "\n",
        "print(returned_string)"
      ],
      "metadata": {
        "colab": {
          "base_uri": "https://localhost:8080/"
        },
        "id": "a5bKtJOOA67w",
        "outputId": "ac777374-71ca-459a-9a53-e2c099632385"
      },
      "execution_count": null,
      "outputs": [
        {
          "output_type": "stream",
          "name": "stdout",
          "text": [
            "Digite uma string: Testando\n",
            "Tstnd\n"
          ]
        }
      ]
    }
  ]
}