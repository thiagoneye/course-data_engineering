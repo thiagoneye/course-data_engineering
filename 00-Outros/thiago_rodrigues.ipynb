{
  "nbformat": 4,
  "nbformat_minor": 0,
  "metadata": {
    "colab": {
      "name": "thiago_rodrigues.ipynb",
      "provenance": [],
      "collapsed_sections": []
    },
    "kernelspec": {
      "name": "python3",
      "display_name": "Python 3"
    },
    "language_info": {
      "name": "python"
    }
  },
  "cells": [
    {
      "cell_type": "markdown",
      "source": [
        "1. Peça o nome de um objeto para o usuário. Enquanto a palavra inserida for menor que 4 letras ou maior que 8 letras, imprima \"Palavra inválida\" e peça o nome do objeto novamente. Caso a palavra seja entre 4 a 8 letras, imprima \"Palavra válida\"."
      ],
      "metadata": {
        "id": "K8xFlUpXaOHk"
      }
    },
    {
      "cell_type": "code",
      "source": [
        "continuar_verificacao = True\n",
        "\n",
        "while continuar_verificacao:\n",
        "    nome_do_objeto = input('Insira o nome de um objeto: ')\n",
        "\n",
        "    if (len(nome_do_objeto) < 4) or (len(nome_do_objeto) > 8):\n",
        "        print('Palavra inválida')\n",
        "    else:\n",
        "        print('Palavra válida')\n",
        "        continuar_verificacao = False\n"
      ],
      "metadata": {
        "id": "xuPhZcaCOnab",
        "colab": {
          "base_uri": "https://localhost:8080/"
        },
        "outputId": "739c5086-24e5-427d-c30f-00a2f56ebf6b"
      },
      "execution_count": null,
      "outputs": [
        {
          "output_type": "stream",
          "name": "stdout",
          "text": [
            "Insira o nome de um objeto: cadeira\n",
            "Palavra válida\n"
          ]
        }
      ]
    },
    {
      "cell_type": "markdown",
      "source": [
        "2. Use a palavra recebida na primeira questão e substitua toda letra 'a' pelo numeral 4, toda letra 'i' pelo numeral 1, toda letra 'e' pelo numeral 3 e imprima o resultado.\n",
        "\n",
        "  Se a palavra for cadeira deve-se imprimir c4d31r4"
      ],
      "metadata": {
        "id": "aSKftpVLaw4Y"
      }
    },
    {
      "cell_type": "code",
      "source": [
        "nome_do_objeto = nome_do_objeto.replace('a', '4')\n",
        "nome_do_objeto = nome_do_objeto.replace('i', '1')\n",
        "nome_do_objeto = nome_do_objeto.replace('e', '3')\n",
        "\n",
        "print(f'O nome do objeto é {nome_do_objeto}')\n"
      ],
      "metadata": {
        "id": "N-xrhvvjOq3W",
        "colab": {
          "base_uri": "https://localhost:8080/"
        },
        "outputId": "f032ce81-5b51-4578-eeaf-61029acab914"
      },
      "execution_count": null,
      "outputs": [
        {
          "output_type": "stream",
          "name": "stdout",
          "text": [
            "O nome do objeto é c4d31r4\n"
          ]
        }
      ]
    },
    {
      "cell_type": "markdown",
      "source": [
        "3. Crie uma função que recebe um número como parâmetro. A função deve calcular e retornar o fatorial desse número.\n",
        "\n",
        "  4! = 4\\*3! = 4\\*3\\*2\\*1\n",
        "\n",
        "  7! = 7\\*6! = 7\\*6\\*5\\*4\\*3\\*2\\*1"
      ],
      "metadata": {
        "id": "yMSbqNZebG_A"
      }
    },
    {
      "cell_type": "code",
      "source": [
        "def fatorial(parametro_de_entrada: int) -> int:\n",
        "    resultado_do_fatorial = 1\n",
        "\n",
        "    while parametro_de_entrada >= 1:\n",
        "        resultado_do_fatorial *= parametro_de_entrada\n",
        "        parametro_de_entrada -= 1\n",
        "\n",
        "    return resultado_do_fatorial\n",
        "\n",
        "parametro_de_entrada = int(input('Digite um número: '))\n",
        "resultado_do_fatorial = fatorial(parametro_de_entrada)\n",
        "\n",
        "print(f'{parametro_de_entrada}! = {resultado_do_fatorial}')\n"
      ],
      "metadata": {
        "id": "yde3PeRAOt2R",
        "colab": {
          "base_uri": "https://localhost:8080/"
        },
        "outputId": "e7a49639-87f0-4792-ea27-35ca08b7e6b6"
      },
      "execution_count": null,
      "outputs": [
        {
          "output_type": "stream",
          "name": "stdout",
          "text": [
            "Digite um número: 4\n",
            "4! = 24\n"
          ]
        }
      ]
    },
    {
      "cell_type": "markdown",
      "source": [
        "4. Crie uma função que recebe uma lista de números como parâmetro. A função deve filtrar a lista para apenas números positivos, em seguida deve remover os números repetidos e por fim imprimir a média dos números restantes"
      ],
      "metadata": {
        "id": "PKV9BrxhbbyI"
      }
    },
    {
      "cell_type": "code",
      "source": [
        "def filtro_de_numeros_positivos(valores: list) -> list:\n",
        "    valores = [valor for valor in valores if valor > 0]\n",
        "    return valores\n",
        "\n",
        "def remocao_de_numeros_repetidos(valores: list) -> list:\n",
        "    valores = set(valores)\n",
        "    valores = list(valores)\n",
        "    return valores\n",
        "\n",
        "def media(valores: list) -> float:\n",
        "    valor_medio = sum(valores)/len(valores)\n",
        "    return valor_medio\n",
        "\n",
        "def impressao_apos_tratamento(valores: list):\n",
        "     valores = filtro_de_numeros_positivos(valores)\n",
        "     valores = remocao_de_numeros_repetidos(valores)\n",
        "     valor_medio = media(valores)\n",
        "     valor_medio = round(valor_medio, 3)\n",
        "\n",
        "     print(f'A média dos números após o tratamento é de {valor_medio}')\n",
        "\n",
        "lista_de_teste = [1, 2, -3, 9.4]\n",
        "impressao_apos_tratamento(lista_de_teste)\n"
      ],
      "metadata": {
        "id": "DR_29MFvOwGi",
        "colab": {
          "base_uri": "https://localhost:8080/"
        },
        "outputId": "2b605f50-2ed7-4aa4-89cf-d1f01c213a97"
      },
      "execution_count": null,
      "outputs": [
        {
          "output_type": "stream",
          "name": "stdout",
          "text": [
            "A média dos números após o tratamento é de 4.133\n"
          ]
        }
      ]
    },
    {
      "cell_type": "markdown",
      "source": [
        "5. Crie uma função que recebe uma string com varias palavras separadas por virgula. Transforme essa string em uma lista de palavras.\n",
        "\n",
        "  `\"varias,palavras,separadas,por,virgula\"` deve virar `[\"varias\",\"palavras\",\"separadas\",\"por\",\"virgula\"]`\n",
        "\n",
        "  filtre essa lista, removendo as palavras começadas por 'p' ou terminadas em 's'.\n",
        "\n",
        "  Das palavras restantes, some o tamanho de cada palavra e imprime o resultado dessa soma"
      ],
      "metadata": {
        "id": "T4nx7nIyclzQ"
      }
    },
    {
      "cell_type": "code",
      "source": [
        "def string_para_lista(string_de_palavras: str) -> list:\n",
        "    lista_de_palavras = string_de_palavras.split(',')\n",
        "    return lista_de_palavras\n",
        "\n",
        "def filtro_de_palavras(lista_de_palavras: list) -> list:\n",
        "    lista_de_palavras = [palavra for palavra in lista_de_palavras if palavra[0] != 'p']\n",
        "    lista_de_palavras = [palavra for palavra in lista_de_palavras if palavra[-1] != 's']\n",
        "    return lista_de_palavras\n",
        "\n",
        "def calcula_tamanho_de_palavras(lista_de_palavras: list) -> list:\n",
        "    tamanho_das_palavras = [len(palavra) for palavra in lista_de_palavras]\n",
        "    return tamanho_das_palavras\n",
        "\n",
        "def imprime_soma_de_tamanhos_apos_tratamento(string_de_palavras: str):\n",
        "    lista_de_palavras = string_para_lista(string_de_palavras)\n",
        "    lista_de_palavras = filtro_de_palavras(lista_de_palavras)\n",
        "    tamanho_das_palavras = calcula_tamanho_de_palavras(lista_de_palavras)\n",
        "    resultado_da_soma = sum(tamanho_das_palavras)\n",
        "\n",
        "    print(f'A soma do tamanho das palavras filtradas é {resultado_da_soma}')\n",
        "\n",
        "string_de_teste = 'varias,palavras,separadas,por,virgula'\n",
        "imprime_soma_de_tamanhos_apos_tratamento(string_de_teste)\n"
      ],
      "metadata": {
        "id": "_k_5TGTbO1o3",
        "colab": {
          "base_uri": "https://localhost:8080/"
        },
        "outputId": "305a5c71-e62e-42ad-e9e5-15339d9848b1"
      },
      "execution_count": 1,
      "outputs": [
        {
          "output_type": "stream",
          "name": "stdout",
          "text": [
            "A soma do tamanho das palavras filtradas é 7\n"
          ]
        }
      ]
    },
    {
      "cell_type": "markdown",
      "source": [
        "6. Dentro da CLI do Linux/Mac, liste os comandos para:\n",
        " \n",
        " a) Criar uma pasta\n",
        "\n",
        " b) remover um arquivo/pasta\n",
        "\n",
        " c) listar todos os arquivos em um determinado diretorio\n",
        "\n",
        " d) navegar para outra pasta.\n"
      ],
      "metadata": {
        "id": "6ma-c3-UdtqH"
      }
    },
    {
      "cell_type": "markdown",
      "source": [
        "**RESPOSTA**\n",
        "\n",
        "a) Criar uma pasta\n",
        "\n",
        "O comando é `mkdir` e sua sintaxe básica é:\n",
        "\n",
        "```\n",
        "$ mkdir NomeDaPasta\n",
        "```\n",
        "\n",
        " b) remover um arquivo/pasta\n",
        "\n",
        "O comando é `rm` e sua sintaxe básica é:\n",
        "\n",
        "```\n",
        "$ rm NomeDoArquivo\n",
        "```\n",
        "\n",
        " c) listar todos os arquivos em um determinado diretorio\n",
        "\n",
        "O comando é `ls` e sua sintaxe básica é:\n",
        "\n",
        "```\n",
        "$ ls\n",
        "```\n",
        "\n",
        " d) navegar para outra pasta.\n",
        "\n",
        "O comando é `cd` e sua sintaxe básica é:\n",
        "\n",
        "```\n",
        "$ cd CaminhoDeDestino\n",
        "```"
      ],
      "metadata": {
        "id": "zeofFjkSPgDQ"
      }
    },
    {
      "cell_type": "markdown",
      "source": [
        "7. Após entrar dentro de um arquivo de texto usando o comando \"vim nome_do_arquivo.txt\", que tecla precisamos apertar para conseguirmos editá-lo? E como é chamado esse **modo**? Como voltarmos para o modo normal?"
      ],
      "metadata": {
        "id": "Nn-HhcSdkFGN"
      }
    },
    {
      "cell_type": "markdown",
      "source": [
        "**RESPOSTA**\n",
        "\n",
        "*i.* Para conseguir editá-lo, é necessário apertar a tecla ***i***.\n",
        "\n",
        "*ii.* Esse modo é chamado de ***Insert*** (Inserção).\n",
        "\n",
        "*iii.* Para voltarmos ao modo normal é necessário clicar na tecla ***ESC***."
      ],
      "metadata": {
        "id": "9Yk_pcn1PqQ1"
      }
    },
    {
      "cell_type": "markdown",
      "source": [
        "8. Após entrar dentro de um arquivo de texto usando o comando \"vim nome_do_arquivo.txt\", que comando precisamos dar para sair do arquivo salvando quaisquer alterações?"
      ],
      "metadata": {
        "id": "1qk4S8T4kUQc"
      }
    },
    {
      "cell_type": "markdown",
      "source": [
        "**RESPOSTA**\n",
        "\n",
        "*i.* Primeiramente, clicar na tecla ***ESC***, para sair do modo de inserção para o modo de comandos.\n",
        "\n",
        "*ii.* Digitar o comando `:wq` e clicar na tecla ***Enter*** para sair do arquivo salvando quaisquer alterações."
      ],
      "metadata": {
        "id": "sHaGnKaYPv_n"
      }
    },
    {
      "cell_type": "markdown",
      "source": [
        "9. Em um determinado projeto em python, temos 5 scripts diferentes, e 3 planilhas.\n",
        "Cada script tem um conjunto de funcionalidades. O Script nomeado \"ScriptA.py\" tem a função de remover itens duplicados em uma determinada planilha, e em seguida, gerar um gráfico daquela informação.\n",
        "\n",
        "  Foi solicitado que você gerasse um novo **commit** modificando o Script cujo nome é \"ScriptA.py\", para que o mesmo fosse capaz de ler qualquer uma das 3 planilhas e efetuar sua função.\n",
        "\n",
        "  Para garantir que o Script funcionaria em diversos casos diferentes você precisou modificar as 3 planilhas.\n",
        "\n",
        "  Ao rodar `git status` no seu git bash, você identificou que existem 4 arquivos modificados. As 3 planilhas e o \"ScriptA.py\". Para efetuar um commit com **apenas a modificação solicitada**, qual seria a sequência de comandos que deveria ser efetuada?"
      ],
      "metadata": {
        "id": "MCSp-sjhkc7m"
      }
    },
    {
      "cell_type": "markdown",
      "source": [
        "**RESPOSTA**\n",
        "\n",
        "*i.* Executar o comando `git add` para adicionar as alterações do script **ScriptA.py** à área de staging:\n",
        "\n",
        "```\n",
        "$ git add ScriptA.py\n",
        "```\n",
        "\n",
        "*ii.* Executar o comando `git commit` das modificações solicitadas:\n",
        "\n",
        "```\n",
        "$ git commit\n",
        "```\n",
        "\n",
        "*iii.* O *Vim* (ou algum editor de texto) irá abrir para seja descrito informações sobre o commit. Uma descrição clara sobre o commit deve ser dada e salvada, para isso: no caso do vim, os procedimentos descritos nas questões 7 e 8 devem ser seguidos; no caso de algum editor de textos, a descrição deve simplesmente ser digitada e, posteriormente, salva.\n"
      ],
      "metadata": {
        "id": "dzqnuvqFP00d"
      }
    },
    {
      "cell_type": "markdown",
      "source": [
        "10. Descreva em suas palavras como se dá o github flow"
      ],
      "metadata": {
        "id": "vevpz_YAkljN"
      }
    },
    {
      "cell_type": "markdown",
      "source": [
        "**RESPOSTA**\n",
        "\n",
        "O **GitHub Flow** é um fluxo de trabalho focando na implementação contínua.\n",
        "Ele é composto por dois tipos de ramificações: **master** (a ramificação principal, estável e em uso) e **feature** (a ramificação na qual serão desenvolvidas novas funcionalidades).\n",
        "Após o desenvolvimento e teste de novos recursos na ramificação feature, uma solicitação de *pull* (**pull request**) é realizada e apenas após a sua análise e aprovação é que a ramificação é mesclada à ramificação principal."
      ],
      "metadata": {
        "id": "mxezxNwvP4iJ"
      }
    },
    {
      "cell_type": "markdown",
      "source": [
        "11. Quais comandos gits são usados para atualizar seu repositorio local e enviar atualizações para o repositorio remoto?"
      ],
      "metadata": {
        "id": "cROhLDQlktm8"
      }
    },
    {
      "cell_type": "markdown",
      "source": [
        "**RESPOSTA**\n",
        "\n",
        "*i.* Para atualizar o repositório local deve-se utilizar o comando `git pull`:\n",
        "\n",
        "```\n",
        "$ git pull\n",
        "```\n",
        "\n",
        "*ii.* Para enviar as atualizações para o repositório remoto deve-se utilizar o comando `git push`:\n",
        "\n",
        "```\n",
        "$ git push\n",
        "```"
      ],
      "metadata": {
        "id": "jV64ppdjP_CR"
      }
    },
    {
      "cell_type": "markdown",
      "source": [
        "12. O que são \"Conflitos\"? Quais comandos de git podemos usar para resolvê-los? Quais as principais diferenças entre eles?"
      ],
      "metadata": {
        "id": "lV7NC6Lvk0fI"
      }
    },
    {
      "cell_type": "markdown",
      "source": [
        "**RESPOSTA**\n",
        "\n",
        "Um conflito no Git ocorre quando dois desenvolvedores alteram o mesmo trecho de código (ou um único desenvolvedor altera um mesmo trecho de branches diferentes) e ao unir os códigos a única maneira de resolver este conflito é através de uma intervenção manual, alterando o código em questão e submetendo um novo commit.\n",
        "\n",
        "O modo mais direto de resolver conflitos de merge é editar o arquivo com conflitos. Quando o arquivo tiver sido editado, usa-se `git add` para fazer stage do novo conteúdo que passou pelo merge. Para finalizar o merge, usa-se um `git commit`.\n",
        "\n",
        "Alguns comandos Git podem ser utilizados para resolver-se conflitos.\n",
        "\n",
        "- Comandos gerais:\n",
        "\n",
        "`git status`: Identifica os arquivos com conflito.\n",
        "\n",
        "`git log --merge`: Produz o log com a lista de commits com conflitos entre as ramificações.\n",
        "\n",
        "`git diff`: Ajuda a identificar diferenças entre os estados de repositórios/arquivos. É útil para prever e prevenir conflitos de merge.\n",
        "\n",
        "- Comandos para quando o Git não consegue iniciar o merge:\n",
        "\n",
        "`git checkout`: Pode ser usado para desfazer mudanças em arquivos.\n",
        "\n",
        "`git reset --mixed`: Pode ser usado para desfazer mudanças no diretório de trabalho e na área de staging.\n",
        "\n",
        "- Comandos para quando surgem conflitos Git durante o merge:\n",
        "\n",
        "`git merge --abort`: Encerra o processo de merge e faz a ramificação voltar ao estado anterior ao merge.\n",
        "\n",
        "`git reset`: Pode ser usado durante conflitos de merge para redefinir arquivos com conflitos para estados válidos."
      ],
      "metadata": {
        "id": "W2K2e8P_QGWW"
      }
    },
    {
      "cell_type": "markdown",
      "source": [
        "13. Usando boas práticas para a escrita de um commit message, escreva um exemplo de commit message que represente a mudança descrita na questão 9."
      ],
      "metadata": {
        "id": "KjWq5Fdbk3ak"
      }
    },
    {
      "cell_type": "markdown",
      "source": [
        "**RESPOSTA**\n",
        "\n",
        "```\n",
        "Implementação de funcionalidade de leitura de arquivos ao script ScriptA.py\n",
        "\n",
        "Inicialmente, o script ScriptA.py possuia as funcionalidades:\n",
        "- Remover itens duplicados em uma determinada planilha;\n",
        "- Gerar um gráfico daquela informação.\n",
        "\n",
        "As funcionalidades iniciais do script foram mantidas. O script foi alterado de modo que passou a possuir uma nova funcionalidade:\n",
        "- Capacidade de leitura de qualquer uma das 3 planilhas existentes no projeto.\n",
        "```"
      ],
      "metadata": {
        "id": "O4ZjKRJuQJZN"
      }
    }
  ]
}