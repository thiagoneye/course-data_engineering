{
  "nbformat": 4,
  "nbformat_minor": 0,
  "metadata": {
    "colab": {
      "name": "Git-aula01.ipynb",
      "provenance": [],
      "authorship_tag": "ABX9TyMcUARqRVQ/nnqbw3c6sEV7",
      "include_colab_link": true
    },
    "kernelspec": {
      "name": "python3",
      "display_name": "Python 3"
    },
    "language_info": {
      "name": "python"
    }
  },
  "cells": [
    {
      "cell_type": "markdown",
      "metadata": {
        "id": "view-in-github",
        "colab_type": "text"
      },
      "source": [
        "<a href=\"https://colab.research.google.com/github/thiagoneye/course-data_engineering/blob/master/02-Cultura%20DevOps/Git_aula01.ipynb\" target=\"_parent\"><img src=\"https://colab.research.google.com/assets/colab-badge.svg\" alt=\"Open In Colab\"/></a>"
      ]
    },
    {
      "cell_type": "markdown",
      "source": [
        "# Formação em Dados Encantech\n",
        "## Trilha 101\n",
        "### CESAR School\n",
        "### Lojas Renner"
      ],
      "metadata": {
        "id": "uTFJ33UxsrOk"
      }
    }
  ]
}